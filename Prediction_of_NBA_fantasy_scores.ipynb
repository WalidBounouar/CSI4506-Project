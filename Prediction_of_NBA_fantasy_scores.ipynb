{
 "cells": [
  {
   "cell_type": "markdown",
   "metadata": {},
   "source": [
    "# Prediction of NBA fantasy scores"
   ]
  },
  {
   "cell_type": "markdown",
   "metadata": {},
   "source": [
    "This notebook is an experiment to see if we could use machine learning models to predict the fantasy production of NBA players. We plan on comparing two techniques, a MLP regressor and a decision tree regressor.  \n",
    "\n",
    "Credit to https://www.kaggle.com/jwals96/nba-201718-stats-and-fantasy-scores for the dataset we plan on using."
   ]
  },
  {
   "cell_type": "markdown",
   "metadata": {},
   "source": [
    "## Preparing the data"
   ]
  },
  {
   "cell_type": "markdown",
   "metadata": {},
   "source": [
    "### Ingesting and interpreting the dataset"
   ]
  },
  {
   "cell_type": "markdown",
   "metadata": {},
   "source": [
    "We'll start by simply using pandas to read our `.csv` file containing the dataset.  \n",
    "Our dataset is made up of many features, such as: \n",
    "- Player season averages (points, rebounds, assists, shooting percentage, etc.)\n",
    "- Information about specific game (date, home team, etc.)\n",
    "- Information about the opponent.\n",
    "- The players fantasy score.\n",
    "Every example in our dataset corresponds to a player's fantasy production for a specific game.  "
   ]
  },
  {
   "cell_type": "code",
   "execution_count": 3,
   "metadata": {},
   "outputs": [],
   "source": [
    "import pandas as pd\n",
    "import numpy as np"
   ]
  },
  {
   "cell_type": "code",
   "execution_count": 6,
   "metadata": {
    "scrolled": true
   },
   "outputs": [
    {
     "data": {
      "text/html": [
       "<div>\n",
       "<style scoped>\n",
       "    .dataframe tbody tr th:only-of-type {\n",
       "        vertical-align: middle;\n",
       "    }\n",
       "\n",
       "    .dataframe tbody tr th {\n",
       "        vertical-align: top;\n",
       "    }\n",
       "\n",
       "    .dataframe thead th {\n",
       "        text-align: right;\n",
       "    }\n",
       "</style>\n",
       "<table border=\"1\" class=\"dataframe\">\n",
       "  <thead>\n",
       "    <tr style=\"text-align: right;\">\n",
       "      <th></th>\n",
       "      <th>Name</th>\n",
       "      <th>Position</th>\n",
       "      <th>(NBAS Team)</th>\n",
       "      <th>(BBref Team)</th>\n",
       "      <th>DK Team</th>\n",
       "      <th>(Team)</th>\n",
       "      <th>(vs.)</th>\n",
       "      <th>(NBAS Opponent)</th>\n",
       "      <th>(BBref Opponent)</th>\n",
       "      <th>DK Opponent</th>\n",
       "      <th>...</th>\n",
       "      <th>Player FT%</th>\n",
       "      <th>Player ORB</th>\n",
       "      <th>Player DRB</th>\n",
       "      <th>Player TRB</th>\n",
       "      <th>Player AST</th>\n",
       "      <th>Player STL</th>\n",
       "      <th>Player BLK</th>\n",
       "      <th>Player TOV</th>\n",
       "      <th>Player PF</th>\n",
       "      <th>Player PS/G</th>\n",
       "    </tr>\n",
       "  </thead>\n",
       "  <tbody>\n",
       "    <tr>\n",
       "      <td>0</td>\n",
       "      <td>Aaron Brooks</td>\n",
       "      <td>PG</td>\n",
       "      <td>MIN</td>\n",
       "      <td>MIN</td>\n",
       "      <td>Min</td>\n",
       "      <td>MIN</td>\n",
       "      <td>vs.</td>\n",
       "      <td>IND</td>\n",
       "      <td>IND</td>\n",
       "      <td>Ind</td>\n",
       "      <td>...</td>\n",
       "      <td>0.727</td>\n",
       "      <td>0.2</td>\n",
       "      <td>0.3</td>\n",
       "      <td>0.5</td>\n",
       "      <td>0.6</td>\n",
       "      <td>0.2</td>\n",
       "      <td>0.0</td>\n",
       "      <td>0.3</td>\n",
       "      <td>0.9</td>\n",
       "      <td>2.3</td>\n",
       "    </tr>\n",
       "    <tr>\n",
       "      <td>1</td>\n",
       "      <td>Aaron Brooks</td>\n",
       "      <td>PG</td>\n",
       "      <td>MIN</td>\n",
       "      <td>MIN</td>\n",
       "      <td>Min</td>\n",
       "      <td>MIN</td>\n",
       "      <td>@</td>\n",
       "      <td>DET</td>\n",
       "      <td>DET</td>\n",
       "      <td>Det</td>\n",
       "      <td>...</td>\n",
       "      <td>0.727</td>\n",
       "      <td>0.2</td>\n",
       "      <td>0.3</td>\n",
       "      <td>0.5</td>\n",
       "      <td>0.6</td>\n",
       "      <td>0.2</td>\n",
       "      <td>0.0</td>\n",
       "      <td>0.3</td>\n",
       "      <td>0.9</td>\n",
       "      <td>2.3</td>\n",
       "    </tr>\n",
       "    <tr>\n",
       "      <td>2</td>\n",
       "      <td>Aaron Brooks</td>\n",
       "      <td>PG</td>\n",
       "      <td>MIN</td>\n",
       "      <td>MIN</td>\n",
       "      <td>Min</td>\n",
       "      <td>MIN</td>\n",
       "      <td>@</td>\n",
       "      <td>GSW</td>\n",
       "      <td>GSW</td>\n",
       "      <td>GS</td>\n",
       "      <td>...</td>\n",
       "      <td>0.727</td>\n",
       "      <td>0.2</td>\n",
       "      <td>0.3</td>\n",
       "      <td>0.5</td>\n",
       "      <td>0.6</td>\n",
       "      <td>0.2</td>\n",
       "      <td>0.0</td>\n",
       "      <td>0.3</td>\n",
       "      <td>0.9</td>\n",
       "      <td>2.3</td>\n",
       "    </tr>\n",
       "    <tr>\n",
       "      <td>3</td>\n",
       "      <td>Aaron Brooks</td>\n",
       "      <td>PG</td>\n",
       "      <td>MIN</td>\n",
       "      <td>MIN</td>\n",
       "      <td>Min</td>\n",
       "      <td>MIN</td>\n",
       "      <td>vs.</td>\n",
       "      <td>CHA</td>\n",
       "      <td>CHO</td>\n",
       "      <td>Cha</td>\n",
       "      <td>...</td>\n",
       "      <td>0.727</td>\n",
       "      <td>0.2</td>\n",
       "      <td>0.3</td>\n",
       "      <td>0.5</td>\n",
       "      <td>0.6</td>\n",
       "      <td>0.2</td>\n",
       "      <td>0.0</td>\n",
       "      <td>0.3</td>\n",
       "      <td>0.9</td>\n",
       "      <td>2.3</td>\n",
       "    </tr>\n",
       "    <tr>\n",
       "      <td>4</td>\n",
       "      <td>Aaron Brooks</td>\n",
       "      <td>PG</td>\n",
       "      <td>MIN</td>\n",
       "      <td>MIN</td>\n",
       "      <td>Min</td>\n",
       "      <td>MIN</td>\n",
       "      <td>@</td>\n",
       "      <td>DAL</td>\n",
       "      <td>DAL</td>\n",
       "      <td>Dal</td>\n",
       "      <td>...</td>\n",
       "      <td>0.727</td>\n",
       "      <td>0.2</td>\n",
       "      <td>0.3</td>\n",
       "      <td>0.5</td>\n",
       "      <td>0.6</td>\n",
       "      <td>0.2</td>\n",
       "      <td>0.0</td>\n",
       "      <td>0.3</td>\n",
       "      <td>0.9</td>\n",
       "      <td>2.3</td>\n",
       "    </tr>\n",
       "  </tbody>\n",
       "</table>\n",
       "<p>5 rows × 86 columns</p>\n",
       "</div>"
      ],
      "text/plain": [
       "           Name Position (NBAS Team) (BBref Team) DK Team (Team) (vs.)  \\\n",
       "0  Aaron Brooks       PG         MIN          MIN     Min    MIN   vs.   \n",
       "1  Aaron Brooks       PG         MIN          MIN     Min    MIN     @   \n",
       "2  Aaron Brooks       PG         MIN          MIN     Min    MIN     @   \n",
       "3  Aaron Brooks       PG         MIN          MIN     Min    MIN   vs.   \n",
       "4  Aaron Brooks       PG         MIN          MIN     Min    MIN     @   \n",
       "\n",
       "  (NBAS Opponent) (BBref Opponent) DK Opponent  ...  Player FT% Player ORB  \\\n",
       "0             IND              IND         Ind  ...       0.727        0.2   \n",
       "1             DET              DET         Det  ...       0.727        0.2   \n",
       "2             GSW              GSW          GS  ...       0.727        0.2   \n",
       "3             CHA              CHO         Cha  ...       0.727        0.2   \n",
       "4             DAL              DAL         Dal  ...       0.727        0.2   \n",
       "\n",
       "  Player DRB  Player TRB  Player AST  Player STL  Player BLK  Player TOV  \\\n",
       "0        0.3         0.5         0.6         0.2         0.0         0.3   \n",
       "1        0.3         0.5         0.6         0.2         0.0         0.3   \n",
       "2        0.3         0.5         0.6         0.2         0.0         0.3   \n",
       "3        0.3         0.5         0.6         0.2         0.0         0.3   \n",
       "4        0.3         0.5         0.6         0.2         0.0         0.3   \n",
       "\n",
       "   Player PF  Player PS/G  \n",
       "0        0.9          2.3  \n",
       "1        0.9          2.3  \n",
       "2        0.9          2.3  \n",
       "3        0.9          2.3  \n",
       "4        0.9          2.3  \n",
       "\n",
       "[5 rows x 86 columns]"
      ]
     },
     "execution_count": 6,
     "metadata": {},
     "output_type": "execute_result"
    }
   ],
   "source": [
    "dataset_raw = pd.read_csv(\"NBA Stats Database - Player Game Stats 2017 (1).csv\")\n",
    "dataset_raw.head(5)"
   ]
  },
  {
   "cell_type": "markdown",
   "metadata": {},
   "source": [
    "Let's explore our data just to have a better idea of what is available to us."
   ]
  },
  {
   "cell_type": "code",
   "execution_count": 7,
   "metadata": {},
   "outputs": [
    {
     "name": "stdout",
     "output_type": "stream",
     "text": [
      "All columns in the dataset:\n",
      "['Name', 'Position', '(NBAS Team)', '(BBref Team)', 'DK Team', '(Team)', '(vs.)', '(NBAS Opponent)', '(BBref Opponent)', 'DK Opponent', 'Home', 'Match Up', 'Date', 'Min', '(Double digit stats)', '(Unadj Pts)', 'DK Points Scored', 'Team Points ', 'Player Avg Pts/min', 'Team Avg Pace', 'Opponent Avg Pace', 'Team FG', 'Team FGA', 'Team FG%', 'Team 3P', 'Team 3PA', 'Team 3P%', 'Team 2P', 'Team 2PA', 'Team 2P%', 'Team FT', 'Team FTA', 'Team FT%', 'Team ORB', 'Team DRB', 'Team TRB', 'Team AST', 'Team STL', 'Team BLK', 'Team TOV', 'Team PF', 'Team Avg Points', 'Opp FG', 'Opp FGA', 'Opp FG%', 'Opp 3P', 'Opp 3PA', 'Opp 3P%', 'Opp 2P', 'Opp 2PA', 'Opp 2P%', 'Opp FT', 'Opp FTA', 'Opp FT%', 'Opp ORB', 'Opp DRB', 'Opp TRB', 'Opp AST', 'Opp STL', 'Opp BLK', 'Opp TOV', 'Opp PF', 'Opp Avg PTS', 'Player Age', 'Player FG', 'Player FGA', 'Player FG%', 'Player 3P', 'Player 3PA', 'Player 3P%', 'Player 2P', 'Player 2PA', 'Player 2P%', 'Player eFG%', 'Player FT', 'Player FTA', 'Player FT%', 'Player ORB', 'Player DRB', 'Player TRB', 'Player AST', 'Player STL', 'Player BLK', 'Player TOV', 'Player PF', 'Player PS/G']\n",
      "\n",
      "Number of examples in the dataset:  27269\n",
      "Number of columns in the dataset:  86\n",
      "\n"
     ]
    },
    {
     "data": {
      "text/plain": [
       "'\\nfor column in list(dataset_raw):\\n    print(dataset_raw[column].value_counts())\\n    print()\\n'"
      ]
     },
     "execution_count": 7,
     "metadata": {},
     "output_type": "execute_result"
    }
   ],
   "source": [
    "#columns\n",
    "print(\"All columns in the dataset:\")\n",
    "print(list(dataset_raw))\n",
    "print()\n",
    "\n",
    "# Shape of the dataset\n",
    "print(\"Number of examples in the dataset: \", dataset_raw.shape[0])\n",
    "print(\"Number of columns in the dataset: \", dataset_raw.shape[1])\n",
    "print()\n",
    "\n",
    "# Information about each column\n",
    "'''\n",
    "for column in list(dataset_raw):\n",
    "    print(dataset_raw[column].value_counts())\n",
    "    print()\n",
    "'''"
   ]
  },
  {
   "cell_type": "markdown",
   "metadata": {},
   "source": [
    "# TODO CLEAN DATA THE RIGTH WAY"
   ]
  },
  {
   "cell_type": "code",
   "execution_count": 85,
   "metadata": {},
   "outputs": [
    {
     "data": {
      "text/plain": [
       "'\\nprint(\"-----------------------\")\\nfor i in dataset_raw.isnull().sum():\\n    print(i)\\n'"
      ]
     },
     "execution_count": 85,
     "metadata": {},
     "output_type": "execute_result"
    }
   ],
   "source": [
    "'''\n",
    "for i in dataset_raw.isnull().sum():\n",
    "    print(i)\n",
    "print(\"-----------------------\")\n",
    "'''\n",
    "#dataset_raw = dataset_raw[:27020]\n",
    "dataset_raw = dataset_raw.dropna()\n",
    "'''\n",
    "print(\"-----------------------\")\n",
    "for i in dataset_raw.isnull().sum():\n",
    "    print(i)\n",
    "'''"
   ]
  },
  {
   "cell_type": "markdown",
   "metadata": {},
   "source": [
    "# END OF TODO"
   ]
  },
  {
   "cell_type": "markdown",
   "metadata": {},
   "source": [
    "We plan to use different versions of the dataset to see which one performs the best. To do so, we think we should try to classify each feature of the dataset and then base our versions of the dataset on those categories. We decided to define the following categories:\n",
    "- **Main**: Those are features that we think belong in every dataset because we see them as having a good value.\n",
    "- **Derived**: Other feature(s) offers similar information or can litteraly be used to derive the feature.\n",
    "- **Useless**: Information is useless (e.g. '(vs.)').\n",
    "- **Not predictive**: Column offers no predictive value. I.e. it cannot be a feature in the test set.\n",
    "- **Optional**: We believe the column offers little value. This is very subjective, which leaves us room for experimentation.  \n",
    "\n",
    "Let's classify our features and explain a bit. This is going to be quite long, so please feel free to skip this: \n",
    "\n",
    "\n",
    "| Feature | Category | Justification |\n",
    "|:--------|:---------|:--------------|\n",
    "| 'Name' | **Optional** | we think a players stats should define him well enough. Also, on-hot encoding of this column would add 500+ features. |  \n",
    "| 'Position' | **Optional** | This is a bit 'inside baseball', but the modern move towards positionless basketball makes us think adding this feature wouldn't be usefull enough. |\n",
    "| '(NBAS Team)' | **Optional** | We don't believe knowing the team adds something if we know the team stats. Also, playing agains Miami in 2012 isn't the same as Miami in 2019, so there is a time constraint on this feature. |\n",
    "| '(BBref Team)' | **Useless** | This is also the team, see '(NBAS Team)' |\n",
    "| 'DK Team' | **Useless** | This is also the team, see '(NBAS Team)' |\n",
    "| '(Team)' | **Useless** | This is also the team, see '(NBAS Team)' |\n",
    "| '(vs.)' | **Useless** | This is useless. |\n",
    "| 'DK Opponent' | **Optional** | We believe knowing the opponent has limited value if we know the opponent stats. |\n",
    "| '(NBAS Opponent)' | **Useless** |  This is also the opponent, see 'DK Opponent' |\n",
    "| '(BBref Opponent)' | **Useless** | This is also the opponent, see 'DK Opponent' |\n",
    "| 'Home' | **Main** | Knowing if the game is at home seems very interesting as home court advantage is big in basketball. |\n",
    "| 'Match Up' | **Useless** | This is just a combination of team and opponent, so same reasonning. |\n",
    "| 'Date' | **Optional** | Wethink the date should not have to much impact, especially the exact date. Maybe the month can catch some trends. However, we will use this feature to do some changes later on. |\n",
    "| 'Min' | **Not predictive** | This is the number of minute played for a game. We don't know this beforehand, so no predictive value. |\n",
    "| '(Double digit stats)' | **Main** | Unfortunatly, we're not sure what this is, so we'll ignore it for now. It seems like it says how many of the player's stats were in double digit, which once again is not know beforhand so no predictive value. |\n",
    "| '(Unadj Pts)' | **Useless** | We made the design decision that our label column would be 'DK Points scored'. This column offers roughly the same information. |\n",
    "| 'DK Points Scored' | **Main** | This is our label column. Essential. |\n",
    "| 'Team Points' | **Not predictive** | This is the points the team scored. We don't know this beforehand, no predictive value. |\n",
    "| 'Player Avg Pts/min' | **Main** | This seems interesting since points are a big part of fantasy production. |\n",
    "| 'Team Avg Pace' | **Main** | Interesting since the higher the pace, the more chances there are to score for the player. |\n",
    "| 'Opponent Avg Pace' | **Main** | Same reasoning as 'Team Avg Pace'. |\n",
    "| 'Team FG' | **Main** | Team average field goal made per game. We find it interesting, though it's similar to the pace. |\n",
    "| 'Team FGA' | **Main** | Team average field goal attemps per game. We find it interesting, though it's similar to the pace. |\n",
    "| 'Team FG%' | **Derived** | While useful, it's fairly similiar to having both 'Team FG' and 'Team FGA'. |\n",
    "| 'Team 3P' | **Main** | Same reasoning as 'Team FG' |\n",
    "| 'Team 3PA' | **Main** | Same reasoning as 'Team FGA' | \n",
    "| 'Team 3P%' | **Derived** | Same reasoning as 'Team FG%' | \n",
    "| 'Team 2P' | **Main** | Same reasoning as 'Team FG' | \n",
    "| 'Team 2PA' | **Main** | Same reasoning as 'Team FGA' |\n",
    "| 'Team 2P%' | **Derived** | Same reasoning as 'Team FG%' | \n",
    "| 'Team FT' | **Main** | Same reasoning as 'Team FG' | \n",
    "| 'Team FTA' | **Main** | Same reasoning as 'Team FGA' | \n",
    "| 'Team FT%' | **Derived** | Same reasoning as 'Team FG%' | \n",
    "| 'Team ORB' | **Main** |  | \n",
    "| 'Team DRB' | **Main** |  |\n",
    "| 'Team TRB' | **Derived** |  |\n",
    "| 'Team AST' | **Main** |  |\n",
    "| 'Team STL' | **Main** |  |\n",
    "| 'Team BLK' | **Main** |  |\n",
    "| 'Team TOV' | **Main** |  |\n",
    "| 'Team PF' | **Optional** |  |\n",
    "| 'Team Avg Points' | **Main** |  |\n",
    "| 'Opp FG' | **Main** |  |\n",
    "| 'Opp FGA' | **Main** |  |\n",
    "| 'Opp FG%' | **Derived** |  |\n",
    "| 'Opp 3P' | **Main** |  |\n",
    "| 'Opp 3PA' | **Main** |  |\n",
    "| 'Opp 3P%' | **Derived** |  |\n",
    "| 'Opp 2P' | **Main** |  |\n",
    "| 'Opp 2PA' | **Main** |  |\n",
    "| 'Opp 2P%' | **Derived** |  |\n",
    "| 'Opp FT' | **Main** |  |\n",
    "| 'Opp FTA' | **Main** |  |\n",
    "| 'Opp FT%' | **Derived** |  |\n",
    "| 'Opp ORB' | **Main** |  |\n",
    "| 'Opp DRB' | **Main** |  |\n",
    "| 'Opp TRB' | **Derived** |  |\n",
    "| 'Opp AST' | **Main** |  |\n",
    "| 'Opp STL' | **Main** |  |\n",
    "| 'Opp BLK' | **Main** |  |\n",
    "| 'Opp TOV' | **Main** |  |\n",
    "| 'Opp PF' | **Main** |  |\n",
    "| 'Opp Avg PTS' | **Main** |  |\n",
    "| 'Player Age' | **Main** |  |\n",
    "| 'Player FG' | **Main** |  |\n",
    "| 'Player FGA' | **Main** |  |\n",
    "| 'Player FG%' | **Derived** |  |\n",
    "| 'Player 3P' | **Main** |  |\n",
    "| 'Player 3PA' | **Main** |  |\n",
    "| 'Player 3P%' | **Derived** |  |\n",
    "| 'Player 2P' | **Main** |  |\n",
    "| 'Player 2PA' | **Main** |  |\n",
    "| 'Player 2P%' | **Derived** |  |\n",
    "| 'Player eFG%' | **Derived** |  |\n",
    "| 'Player FT' | **Main** |  |\n",
    "| 'Player FTA' | **Main** |  |\n",
    "| 'Player FT%' | **Derived** |  |\n",
    "| 'Player ORB' | **Main** |  |\n",
    "| 'Player DRB' | **Main** |  |\n",
    "| 'Player TRB' | **Derived** |  |\n",
    "| 'Player AST' | **Main** |  |\n",
    "| 'Player STL' | **Main** |  |\n",
    "| 'Player BLK' | **Main** |  |\n",
    "| 'Player TOV' | **Main** |  |\n",
    "| 'Player PF' | **Main** |  |\n",
    "| 'Player PS/G' | **Main** |  |\n"
   ]
  },
  {
   "cell_type": "markdown",
   "metadata": {},
   "source": [
    "### Remodeling the dataset"
   ]
  },
  {
   "cell_type": "markdown",
   "metadata": {},
   "source": [
    "Like we mentionned earlier, we want to use different versions of the dataset to see how different mix of feature might change performance. We decided to have three versions\n",
    "\n",
    "**Version 1: Full dataset**  \n",
    "This dataset will pretty much be the original dataset, but we'll remove features that we classified as **Useless** or **Not Predictive**. For the other features, we'll make no or very little changes.  \n",
    "\n",
    "**Version 2: Lightweight dataset**  \n",
    "In this dataset, we'll only keep the features we classified as **Main**. The idea is that the features classified as **Derived** or **Optional** offer information that we can already get with the **Main** features. We might do small changes to the features in this dataset.  \n",
    "\n",
    "**Version 3: Fully custom**  \n",
    "This is pretty much the version 2 dataset, but we'll make quite a bit of changes. We'll detail them in the section reserved for the creation of the version 3 dataset."
   ]
  },
  {
   "cell_type": "markdown",
   "metadata": {},
   "source": [
    "First, let's pop our target column as it's the same for all our datasets."
   ]
  },
  {
   "cell_type": "code",
   "execution_count": 9,
   "metadata": {},
   "outputs": [],
   "source": [
    "#isolating cell because it can only be run once\n",
    "y = dataset_raw.pop('DK Points Scored')"
   ]
  },
  {
   "cell_type": "markdown",
   "metadata": {},
   "source": [
    "Now we'll apply changes that we will be using on all our datasets"
   ]
  },
  {
   "cell_type": "code",
   "execution_count": 10,
   "metadata": {},
   "outputs": [
    {
     "data": {
      "text/plain": [
       "1       2017-10-25\n",
       "2       2017-11-08\n",
       "3       2017-11-05\n",
       "4       2017-11-17\n",
       "5       2017-11-04\n",
       "           ...    \n",
       "27023   2017-12-20\n",
       "27024   2017-12-13\n",
       "27025   2017-12-11\n",
       "27026   2017-12-09\n",
       "27027   2017-12-18\n",
       "Name: Date, Length: 25818, dtype: datetime64[ns]"
      ]
     },
     "execution_count": 10,
     "metadata": {},
     "output_type": "execute_result"
    }
   ],
   "source": [
    "# replace the date by a 'month' feature\n",
    "dataset_raw['Date'] = pd.to_datetime(dataset_raw['Date'], errors='coerce')\n",
    "dataset_raw['Month'] = dataset_raw['Date'].dt.month\n",
    "dataset_raw.pop('Date')"
   ]
  },
  {
   "cell_type": "markdown",
   "metadata": {},
   "source": [
    "#### Creating the Version 1 dataset: Original dataset"
   ]
  },
  {
   "cell_type": "markdown",
   "metadata": {},
   "source": [
    "As we mentionned earlier, the version 1 dataset, but without the features we classified as **Useless** or **Not Predictive**. The only change we will make is the one-hot encoding of discrete features (and 'Month', which is technically numeric)."
   ]
  },
  {
   "cell_type": "code",
   "execution_count": 89,
   "metadata": {},
   "outputs": [
    {
     "name": "stdout",
     "output_type": "stream",
     "text": [
      "(25818, 602)\n",
      "['Home', '(Double digit stats)', 'Player Avg Pts/min', 'Team Avg Pace', 'Opponent Avg Pace', 'Team FG', 'Team FGA', 'Team FG%', 'Team 3P', 'Team 3PA', 'Team 3P%', 'Team 2P', 'Team 2PA', 'Team 2P%', 'Team FT', 'Team FTA', 'Team FT%', 'Team ORB', 'Team DRB', 'Team TRB', 'Team AST', 'Team STL', 'Team BLK', 'Team TOV', 'Team PF', 'Team Avg Points', 'Opp FG', 'Opp FGA', 'Opp FG%', 'Opp 3P', 'Opp 3PA', 'Opp 3P%', 'Opp 2P', 'Opp 2PA', 'Opp 2P%', 'Opp FT', 'Opp FTA', 'Opp FT%', 'Opp ORB', 'Opp DRB', 'Opp TRB', 'Opp AST', 'Opp STL', 'Opp BLK', 'Opp TOV', 'Opp PF', 'Opp Avg PTS', 'Player Age', 'Player FG', 'Player FGA', 'Player FG%', 'Player 3P', 'Player 3PA', 'Player 3P%', 'Player 2P', 'Player 2PA', 'Player 2P%', 'Player eFG%', 'Player FT', 'Player FTA', 'Player FT%', 'Player ORB', 'Player DRB', 'Player TRB', 'Player AST', 'Player STL', 'Player BLK', 'Player TOV', 'Player PF', 'Player PS/G', 'player_Aaron Brooks', 'player_Aaron Gordon', 'player_Aaron Harrison', 'player_Abdel Nader', 'player_Adreian Payne', 'player_Al Horford', 'player_Al Jefferson', 'player_Al-Farouq Aminu', 'player_Alec Burks', 'player_Alec Peters', 'player_Alex Abrines', 'player_Alex Caruso', 'player_Alex Len', 'player_Alfonzo McKinnie', 'player_Allen Crabbe', 'player_Amir Johnson', 'player_Andre Drummond', 'player_Andre Iguodala', 'player_Andre Roberson', 'player_Andrew Harrison', 'player_Andrew White III', 'player_Andrew Wiggins', 'player_Anthony Davis', 'player_Anthony Tolliver', 'player_Antonio Blakeney', 'player_Antonius Cleveland', 'player_Aron Baynes', 'player_Arron Afflalo', 'player_Austin Rivers', 'player_Avery Bradley', 'player_Bam Adebayo', 'player_Ben McLemore', 'player_Ben Simmons', 'player_Bismack Biyombo', 'player_Blake Griffin', 'player_Bobby Brown', 'player_Bobby Portis', 'player_Bogdan Bogdanovic', 'player_Bojan Bogdanovic', 'player_Bradley Beal', 'player_Brandon Ingram', 'player_Brandon Jennings', 'player_Brandon Paul', 'player_Briante Weber', 'player_Brice Johnson', 'player_Brook Lopez', 'player_Bruno Caboclo', 'player_Bryn Forbes', 'player_Buddy Hield', 'player_C.J. Williams', 'player_CJ McCollum', 'player_CJ Miles', 'player_Caleb Swanigan', 'player_Cameron Payne', 'player_Caris LeVert', 'player_Carmelo Anthony', 'player_Cedi Osman', 'player_Chandler Parsons', 'player_Channing Frye', 'player_Charles Cooke', 'player_Chris McCullough', 'player_Chris Paul', 'player_Clint Capela', 'player_Cody Zeller', 'player_Corey Brewer', 'player_Cory Joseph', 'player_Courtney Lee', 'player_Cristiano Felicio', \"player_D'Angelo Russell\", 'player_D.J. Augustin', 'player_D.J. Wilson', 'player_Damian Lillard', 'player_Damien Wilkins', 'player_Damion Lee', 'player_Damyean Dotson', 'player_Daniel Theis', 'player_Danilo Gallinari', 'player_Danny Green', 'player_Dante Cunningham', 'player_Dante Exum', 'player_Danuel House', 'player_Dario Saric', 'player_Darius Miller', 'player_Darrell Arthur', 'player_Darren Collison', 'player_Darrun Hilliard', 'player_David Nwaba', 'player_David West', 'player_Davis Bertans', 'player_Davon Reed', \"player_De'Aaron Fox\", 'player_DeAndre Liggins', \"player_DeAndre' Bembry\", 'player_DeMar DeRozan', 'player_DeMarcus Cousins', 'player_DeMarre Carroll', 'player_Dejounte Murray', 'player_Delon Wright', 'player_Demetrius Jackson', 'player_Dennis Schröder', 'player_Dennis Smith Jr.', 'player_Denzel Valentine', 'player_Derrick Favors', 'player_Derrick Jones Jr.', 'player_Derrick Rose', 'player_Derrick Walton Jr.', 'player_Derrick White', 'player_Devin Booker', 'player_Devin Harris', 'player_Dewayne Dedmon', 'player_Dillon Brooks', 'player_Dion Waiters', 'player_Dirk Nowitzki', 'player_Domantas Sabonis', 'player_Donovan Mitchell', 'player_Dorian Finney-Smith', 'player_Doug McDermott', 'player_Dragan Bender', 'player_Draymond Green', 'player_Dwayne Bacon', 'player_Dwight Buycks', 'player_Dwight Howard', 'player_Dwight Powell', 'player_Dwyane Wade', \"player_E'Twaun Moore\", 'player_Ed Davis', 'player_Ekpe Udoh', 'player_Elfrid Payton', 'player_Emmanuel Mudiay', 'player_Enes Kanter', 'player_Eric Bledsoe', 'player_Eric Gordon', 'player_Ersan Ilyasova', 'player_Evan Fournier', 'player_Evan Turner', 'player_Frank Kaminsky', 'player_Frank Mason', 'player_Frank Ntilikina', 'player_Fred VanVleet', 'player_Furkan Korkmaz', 'player_Garrett Temple', 'player_Gary Harris', 'player_Gary Payton II', 'player_George Hill', 'player_Georges Niang', 'player_Gerald Green', 'player_Gian Clavell', 'player_Giannis Antetokounmpo', 'player_Glenn Robinson III', 'player_Goran Dragic', 'player_Gorgui Dieng', 'player_Guerschon Yabusele', 'player_Harrison Barnes', 'player_Hassan Whiteside', 'player_Henry Ellenson', 'player_Ian Clark', 'player_Ian Mahinmi', 'player_Iman Shumpert', 'player_Isaiah Canaan', 'player_Isaiah Hicks', 'player_Isaiah Taylor', 'player_Isaiah Thomas', 'player_Isaiah Whitehead', 'player_Ish Smith', 'player_Ivica Zubac', 'player_J.J. Barea', 'player_JJ Redick', 'player_JR Smith', 'player_JaKarr Sampson', 'player_JaMychal Green', 'player_JaVale McGee', 'player_Jabari Bird', 'player_Jabari Parker', 'player_Jacob Wiley', 'player_Jae Crowder', 'player_Jahlil Okafor', 'player_Jake Layman', 'player_Jakob Poeltl', 'player_Jalen Jones', 'player_Jamal Crawford', 'player_Jamal Murray', 'player_Jameer Nelson', 'player_Jamel Artis', 'player_James Ennis III', 'player_James Harden', 'player_James Johnson', 'player_James Young', 'player_Jamil Wilson', 'player_Jared Dudley', 'player_Jarell Martin', 'player_Jarrett Allen', 'player_Jarrett Jack', 'player_Jason Smith', 'player_Jason Terry', 'player_Jawun Evans', 'player_Jaylen Brown', 'player_Jayson Tatum', 'player_Jeff Green', 'player_Jeff Teague', 'player_Jeff Withey', 'player_Jerami Grant', 'player_Jeremy Lamb', 'player_Jeremy Lin', 'player_Jerian Grant', 'player_Jerryd Bayless', 'player_Jimmy Butler', 'player_Jodie Meeks', 'player_Joe Harris', 'player_Joe Ingles', 'player_Joe Johnson', 'player_Joe Young', 'player_Joel Bolomboy', 'player_Joel Embiid', 'player_Joffrey Lauvergne', 'player_John Collins', 'player_John Henson', 'player_John Holland', 'player_John Wall', 'player_Johnathan Motley', \"player_Johnny O'Bryant III\", 'player_Jon Leuer', 'player_Jonas Jerebko', 'player_Jonas Valanciunas', 'player_Jonathan Isaac', 'player_Jonathon Simmons', 'player_Jordan Bell', 'player_Jordan Clarkson', 'player_Jordan Crawford', 'player_Jordan Mickey', 'player_Jose Calderon', 'player_Josh Gray', 'player_Josh Hart', 'player_Josh Huestis', 'player_Josh Jackson', 'player_Josh Magette', 'player_Josh Richardson', 'player_Jrue Holiday', 'player_Juancho Hernangomez', 'player_Julius Randle', 'player_Justin Anderson', 'player_Justin Holiday', 'player_Justin Jackson', 'player_Justise Winslow', 'player_Jusuf Nurkic', 'player_Kadeem Allen', 'player_Karl-Anthony Towns', 'player_Kawhi Leonard', 'player_Kay Felder', 'player_Kelly Olynyk', 'player_Kelly Oubre Jr.', 'player_Kemba Walker', 'player_Kenneth Faried', 'player_Kent Bazemore', 'player_Kentavious Caldwell-Pope', 'player_Kevin Durant', 'player_Kevin Love', 'player_Kevon Looney', 'player_Khris Middleton', 'player_Klay Thompson', 'player_Kobi Simmons', 'player_Kris Dunn', 'player_Kristaps Porzingis', 'player_Kyle Anderson', 'player_Kyle Collinsworth', 'player_Kyle Korver', 'player_Kyle Kuzma', 'player_Kyle Lowry', \"player_Kyle O'Quinn\", 'player_Kyle Singler', 'player_Kyrie Irving', 'player_LaMarcus Aldridge', 'player_Lance Stephenson', 'player_Lance Thomas', 'player_Langston Galloway', 'player_Larry Nance Jr.', 'player_Lauri Markkanen', 'player_LeBron James', 'player_London Perrantes', 'player_Lonzo Ball', 'player_Lorenzo Brown', 'player_Lou Williams', 'player_Luc Mbah a Moute', 'player_Lucas Nogueira', 'player_Luke Babbitt', 'player_Luke Kennard', 'player_Luke Kornet', 'player_Malachi Richardson', 'player_Malcolm Brogdon', 'player_Malcolm Delaney', 'player_Malcolm Miller', 'player_Malik Beasley', 'player_Malik Monk', 'player_Manu Ginobili', 'player_MarShon Brooks', 'player_Marc Gasol', 'player_Marco Belinelli', 'player_Marcus Georges-Hunt', 'player_Marcus Morris', 'player_Marcus Paige', 'player_Marcus Smart', 'player_Mario Chalmers', 'player_Mario Hezonja', 'player_Markelle Fultz', 'player_Markieff Morris', 'player_Marquese Chriss', 'player_Marquis Teague', 'player_Marreese Speights', 'player_Marvin Williams', 'player_Mason Plumlee', 'player_Matthew Dellavedova', 'player_Maurice Harkless', 'player_Maxi Kleber', 'player_Meyers Leonard', 'player_Michael Beasley', 'player_Michael Carter-Williams', 'player_Michael Kidd-Gilchrist', 'player_Mike Conley', 'player_Mike James', 'player_Mike Muscala', 'player_Mike Scott', 'player_Milos Teodosic', 'player_Milton Doyle', 'player_Monte Morris', 'player_Montrezl Harrell', 'player_Myke Henry', 'player_Myles Turner', 'player_Nemanja Bjelica', 'player_Nene', 'player_Nerlens Noel', 'player_Nick Young', 'player_Nicolas Batum', 'player_Nigel Hayes', 'player_Nik Stauskas', 'player_Nikola Jokic', 'player_Nikola Mirotic', 'player_Nikola Vucevic', 'player_Noah Vonleh', 'player_Norman Powell', 'player_OG Anunoby', 'player_Okaro White', 'player_Omri Casspi', 'player_Otto Porter Jr.', 'player_PJ Tucker', 'player_Pascal Siakam', 'player_Pat Connaughton', 'player_Patrick Beverley', 'player_Patrick McCaw', 'player_Patrick Patterson', 'player_Patty Mills', 'player_Pau Gasol', 'player_Paul George', 'player_Paul Millsap', 'player_Paul Zipser', 'player_Quincy Acy', 'player_Quincy Pondexter', 'player_Quinn Cook', 'player_RJ Hunter', 'player_Rajon Rondo', 'player_Ramon Sessions', 'player_Rashad Vaughn', 'player_Raul Neto', 'player_Raymond Felton', 'player_Reggie Bullock', 'player_Reggie Jackson', 'player_Richard Jefferson', 'player_Richaun Holmes', 'player_Ricky Rubio', 'player_Robert Covington', 'player_Robin Lopez', 'player_Rodney Hood', 'player_Rodney McGruder', 'player_Rodney Purvis', 'player_Ron Baker', 'player_Rondae Hollis-Jefferson', \"player_Royce O'Neale\", 'player_Rudy Gay', 'player_Russell Westbrook', 'player_Ryan Anderson', 'player_Ryan Arcidiacono', 'player_Salah Mejri', 'player_Sam Dekker', 'player_Sean Kilpatrick', 'player_Semi Ojeleye', 'player_Serge Ibaka', 'player_Shabazz Muhammad', 'player_Shabazz Napier', 'player_Shane Larkin', 'player_Shaquille Harrison', 'player_Shaun Livingston', 'player_Shelvin Mack', 'player_Sindarius Thornwell', 'player_Skal Labissiere', 'player_Solomon Hill', 'player_Spencer Dinwiddie', 'player_Stanley Johnson', 'player_Stephen Curry', 'player_Sterling Brown', 'player_Steven Adams', 'player_T.J. McConnell', 'player_TJ Leaf', 'player_TJ Warren', 'player_Taj Gibson', 'player_Tarik Black', 'player_Taurean Prince', 'player_Terrance Ferguson', 'player_Terrence Ross', 'player_Terry Rozier', 'player_Thabo Sefolosha', 'player_Thaddeus Young', 'player_Thomas Bryant', 'player_Thon Maker', 'player_Tim Frazier', 'player_Tim Hardaway Jr.', 'player_Tim Quarterman', 'player_Timofey Mozgov', 'player_Timothe Luwawu-Cabarrot', 'player_Tobias Harris', 'player_Tomas Satoransky', 'player_Tony Allen', 'player_Tony Bradley', 'player_Tony Parker', 'player_Tony Snell', 'player_Torrey Craig', 'player_Travis Wear', 'player_Treveon Graham', 'player_Trevor Ariza', 'player_Trevor Booker', 'player_Trey Burke', 'player_Trey Lyles', 'player_Troy Daniels', 'player_Troy Williams', 'player_Tyler Cavanaugh', 'player_Tyler Dorsey', 'player_Tyler Ennis', 'player_Tyler Johnson', 'player_Tyler Ulis', 'player_Tyler Zeller', 'player_Tyreke Evans', 'player_Tyrone Wallace', 'player_Tyus Jones', 'player_Udonis Haslem', 'player_Vander Blue', 'player_Victor Oladipo', 'player_Vince Carter', 'player_Wade Baldwin IV', 'player_Walter Lemon Jr.', 'player_Wayne Ellington', 'player_Wayne Selden', 'player_Wes Iwundu', 'player_Wesley Johnson', 'player_Wesley Matthews', 'player_Will Barton', 'player_Willie Cauley-Stein', 'player_Willie Reed', 'player_Willy Hernangomez', 'player_Wilson Chandler', 'player_Xavier Munford', 'player_Xavier Rathan-Mayes', 'player_Yogi Ferrell', 'player_Zach Collins', 'position_C', 'position_PF', 'position_PG', 'position_SF', 'position_SG', 'team_ATL', 'team_BKN', 'team_BOS', 'team_CHA', 'team_CHI', 'team_CLE', 'team_DAL', 'team_DEN', 'team_DET', 'team_GSW', 'team_HOU', 'team_IND', 'team_LAC', 'team_LAL', 'team_MEM', 'team_MIA', 'team_MIL', 'team_MIN', 'team_NOP', 'team_NYK', 'team_OKC', 'team_ORL', 'team_PHI', 'team_PHX', 'team_POR', 'team_SAC', 'team_SAS', 'team_TOR', 'team_UTA', 'team_WAS', 'opponent_Atl', 'opponent_Bkn', 'opponent_Bos', 'opponent_Cha', 'opponent_Chi', 'opponent_Cle', 'opponent_Dal', 'opponent_Den', 'opponent_Det', 'opponent_GS', 'opponent_Hou', 'opponent_Ind', 'opponent_LAC', 'opponent_LAL', 'opponent_Mem', 'opponent_Mia', 'opponent_Mil', 'opponent_Min', 'opponent_NO', 'opponent_NY', 'opponent_OKC', 'opponent_Orl', 'opponent_Phi', 'opponent_Pho', 'opponent_Por', 'opponent_SA', 'opponent_Sac', 'opponent_Tor', 'opponent_Uta', 'opponent_Was', 'month_1', 'month_2', 'month_3', 'month_4', 'month_10', 'month_11', 'month_12']\n"
     ]
    }
   ],
   "source": [
    "full_feature_set = ['Name', 'Position', '(NBAS Team)', 'DK Opponent', 'Home', '(Double digit stats)', \n",
    "                    'Player Avg Pts/min', 'Team Avg Pace', 'Opponent Avg Pace', 'Team FG', \n",
    "                    'Team FGA', 'Team FG%', 'Team 3P', 'Team 3PA', 'Team 3P%', 'Team 2P', 'Team 2PA', 'Team 2P%', \n",
    "                    'Team FT', 'Team FTA', 'Team FT%', 'Team ORB', 'Team DRB', 'Team TRB', 'Team AST', 'Team STL', \n",
    "                    'Team BLK', 'Team TOV', 'Team PF', 'Team Avg Points', 'Opp FG', 'Opp FGA', 'Opp FG%', 'Opp 3P', \n",
    "                    'Opp 3PA', 'Opp 3P%', 'Opp 2P', 'Opp 2PA', 'Opp 2P%', 'Opp FT', 'Opp FTA', 'Opp FT%', 'Opp ORB', \n",
    "                    'Opp DRB', 'Opp TRB', 'Opp AST', 'Opp STL', 'Opp BLK', 'Opp TOV', 'Opp PF', 'Opp Avg PTS', \n",
    "                    'Player Age', 'Player FG', 'Player FGA', 'Player FG%', 'Player 3P', 'Player 3PA', 'Player 3P%', \n",
    "                    'Player 2P', 'Player 2PA', 'Player 2P%', 'Player eFG%', 'Player FT', 'Player FTA', 'Player FT%', \n",
    "                    'Player ORB', 'Player DRB', 'Player TRB', 'Player AST', 'Player STL', 'Player BLK', 'Player TOV', \n",
    "                    'Player PF', 'Player PS/G', 'Month']\n",
    "\n",
    "X_full_ft = dataset_raw[full_feature_set].copy()\n",
    "X_full_ft.head(5)\n",
    "\n",
    "# one hot encoding 'Name', 'Position', '(NBAS Team)', 'DK Opponent' and 'Month'\n",
    "one_hot_name = pd.get_dummies(X_full_ft['Name'], prefix = 'player')\n",
    "one_hot_position = pd.get_dummies(X_full_ft['Position'], prefix = 'position')\n",
    "one_hot_team = pd.get_dummies(X_full_ft['(NBAS Team)'], prefix = 'team')\n",
    "one_hot_opponent = pd.get_dummies(X_full_ft['DK Opponent'], prefix = 'opponent')\n",
    "one_hot_month = pd.get_dummies(X_full_ft['Month'], prefix = 'month')\n",
    "\n",
    "\n",
    "X_full_ft = pd.concat([X_full_ft, one_hot_name, one_hot_position, one_hot_team, one_hot_opponent, one_hot_month], axis=1)\n",
    "X_full_ft.pop('Name')\n",
    "X_full_ft.pop('Position')\n",
    "X_full_ft.pop('(NBAS Team)')\n",
    "X_full_ft.pop('DK Opponent')\n",
    "X_full_ft.pop('Month')\n",
    "print(X_full_ft.shape)\n",
    "print(list(X_full_ft))"
   ]
  },
  {
   "cell_type": "markdown",
   "metadata": {},
   "source": [
    "#### Creating the Version 2 dataset: Lightweight dataset"
   ]
  },
  {
   "cell_type": "markdown",
   "metadata": {},
   "source": [
    "For this version of the dataset, we want minimise the number of features and see if we can get similar performance. This means that we'll only keep features categorized as **Main**."
   ]
  },
  {
   "cell_type": "code",
   "execution_count": 12,
   "metadata": {},
   "outputs": [
    {
     "data": {
      "text/html": [
       "<div>\n",
       "<style scoped>\n",
       "    .dataframe tbody tr th:only-of-type {\n",
       "        vertical-align: middle;\n",
       "    }\n",
       "\n",
       "    .dataframe tbody tr th {\n",
       "        vertical-align: top;\n",
       "    }\n",
       "\n",
       "    .dataframe thead th {\n",
       "        text-align: right;\n",
       "    }\n",
       "</style>\n",
       "<table border=\"1\" class=\"dataframe\">\n",
       "  <thead>\n",
       "    <tr style=\"text-align: right;\">\n",
       "      <th></th>\n",
       "      <th>Home</th>\n",
       "      <th>(Double digit stats)</th>\n",
       "      <th>Player Avg Pts/min</th>\n",
       "      <th>Team Avg Pace</th>\n",
       "      <th>Opponent Avg Pace</th>\n",
       "      <th>Team FG</th>\n",
       "      <th>Team FGA</th>\n",
       "      <th>Team 3P</th>\n",
       "      <th>Team 3PA</th>\n",
       "      <th>Team 2P</th>\n",
       "      <th>...</th>\n",
       "      <th>Player 2PA</th>\n",
       "      <th>Player FT</th>\n",
       "      <th>Player FTA</th>\n",
       "      <th>Player TRB</th>\n",
       "      <th>Player AST</th>\n",
       "      <th>Player STL</th>\n",
       "      <th>Player BLK</th>\n",
       "      <th>Player TOV</th>\n",
       "      <th>Player PF</th>\n",
       "      <th>Player PS/G</th>\n",
       "    </tr>\n",
       "  </thead>\n",
       "  <tbody>\n",
       "    <tr>\n",
       "      <td>1</td>\n",
       "      <td>0</td>\n",
       "      <td>0</td>\n",
       "      <td>0.716</td>\n",
       "      <td>96.84</td>\n",
       "      <td>96.81</td>\n",
       "      <td>41.0</td>\n",
       "      <td>86.1</td>\n",
       "      <td>8.0</td>\n",
       "      <td>22.5</td>\n",
       "      <td>33.0</td>\n",
       "      <td>...</td>\n",
       "      <td>1.2</td>\n",
       "      <td>0.3</td>\n",
       "      <td>0.3</td>\n",
       "      <td>0.5</td>\n",
       "      <td>0.6</td>\n",
       "      <td>0.2</td>\n",
       "      <td>0.0</td>\n",
       "      <td>0.3</td>\n",
       "      <td>0.9</td>\n",
       "      <td>2.3</td>\n",
       "    </tr>\n",
       "    <tr>\n",
       "      <td>2</td>\n",
       "      <td>0</td>\n",
       "      <td>0</td>\n",
       "      <td>0.716</td>\n",
       "      <td>96.84</td>\n",
       "      <td>100.43</td>\n",
       "      <td>41.0</td>\n",
       "      <td>86.1</td>\n",
       "      <td>8.0</td>\n",
       "      <td>22.5</td>\n",
       "      <td>33.0</td>\n",
       "      <td>...</td>\n",
       "      <td>1.2</td>\n",
       "      <td>0.3</td>\n",
       "      <td>0.3</td>\n",
       "      <td>0.5</td>\n",
       "      <td>0.6</td>\n",
       "      <td>0.2</td>\n",
       "      <td>0.0</td>\n",
       "      <td>0.3</td>\n",
       "      <td>0.9</td>\n",
       "      <td>2.3</td>\n",
       "    </tr>\n",
       "    <tr>\n",
       "      <td>3</td>\n",
       "      <td>1</td>\n",
       "      <td>0</td>\n",
       "      <td>0.716</td>\n",
       "      <td>96.84</td>\n",
       "      <td>98.74</td>\n",
       "      <td>41.0</td>\n",
       "      <td>86.1</td>\n",
       "      <td>8.0</td>\n",
       "      <td>22.5</td>\n",
       "      <td>33.0</td>\n",
       "      <td>...</td>\n",
       "      <td>1.2</td>\n",
       "      <td>0.3</td>\n",
       "      <td>0.3</td>\n",
       "      <td>0.5</td>\n",
       "      <td>0.6</td>\n",
       "      <td>0.2</td>\n",
       "      <td>0.0</td>\n",
       "      <td>0.3</td>\n",
       "      <td>0.9</td>\n",
       "      <td>2.3</td>\n",
       "    </tr>\n",
       "    <tr>\n",
       "      <td>4</td>\n",
       "      <td>0</td>\n",
       "      <td>0</td>\n",
       "      <td>0.716</td>\n",
       "      <td>96.84</td>\n",
       "      <td>96.61</td>\n",
       "      <td>41.0</td>\n",
       "      <td>86.1</td>\n",
       "      <td>8.0</td>\n",
       "      <td>22.5</td>\n",
       "      <td>33.0</td>\n",
       "      <td>...</td>\n",
       "      <td>1.2</td>\n",
       "      <td>0.3</td>\n",
       "      <td>0.3</td>\n",
       "      <td>0.5</td>\n",
       "      <td>0.6</td>\n",
       "      <td>0.2</td>\n",
       "      <td>0.0</td>\n",
       "      <td>0.3</td>\n",
       "      <td>0.9</td>\n",
       "      <td>2.3</td>\n",
       "    </tr>\n",
       "    <tr>\n",
       "      <td>5</td>\n",
       "      <td>1</td>\n",
       "      <td>0</td>\n",
       "      <td>0.716</td>\n",
       "      <td>96.84</td>\n",
       "      <td>96.61</td>\n",
       "      <td>41.0</td>\n",
       "      <td>86.1</td>\n",
       "      <td>8.0</td>\n",
       "      <td>22.5</td>\n",
       "      <td>33.0</td>\n",
       "      <td>...</td>\n",
       "      <td>1.2</td>\n",
       "      <td>0.3</td>\n",
       "      <td>0.3</td>\n",
       "      <td>0.5</td>\n",
       "      <td>0.6</td>\n",
       "      <td>0.2</td>\n",
       "      <td>0.0</td>\n",
       "      <td>0.3</td>\n",
       "      <td>0.9</td>\n",
       "      <td>2.3</td>\n",
       "    </tr>\n",
       "  </tbody>\n",
       "</table>\n",
       "<p>5 rows × 51 columns</p>\n",
       "</div>"
      ],
      "text/plain": [
       "   Home  (Double digit stats)  Player Avg Pts/min  Team Avg Pace  \\\n",
       "1     0                     0               0.716          96.84   \n",
       "2     0                     0               0.716          96.84   \n",
       "3     1                     0               0.716          96.84   \n",
       "4     0                     0               0.716          96.84   \n",
       "5     1                     0               0.716          96.84   \n",
       "\n",
       "   Opponent Avg Pace  Team FG  Team FGA  Team 3P  Team 3PA  Team 2P  ...  \\\n",
       "1              96.81     41.0      86.1      8.0      22.5     33.0  ...   \n",
       "2             100.43     41.0      86.1      8.0      22.5     33.0  ...   \n",
       "3              98.74     41.0      86.1      8.0      22.5     33.0  ...   \n",
       "4              96.61     41.0      86.1      8.0      22.5     33.0  ...   \n",
       "5              96.61     41.0      86.1      8.0      22.5     33.0  ...   \n",
       "\n",
       "   Player 2PA  Player FT  Player FTA  Player TRB  Player AST  Player STL  \\\n",
       "1         1.2        0.3         0.3         0.5         0.6         0.2   \n",
       "2         1.2        0.3         0.3         0.5         0.6         0.2   \n",
       "3         1.2        0.3         0.3         0.5         0.6         0.2   \n",
       "4         1.2        0.3         0.3         0.5         0.6         0.2   \n",
       "5         1.2        0.3         0.3         0.5         0.6         0.2   \n",
       "\n",
       "   Player BLK  Player TOV  Player PF  Player PS/G  \n",
       "1         0.0         0.3        0.9          2.3  \n",
       "2         0.0         0.3        0.9          2.3  \n",
       "3         0.0         0.3        0.9          2.3  \n",
       "4         0.0         0.3        0.9          2.3  \n",
       "5         0.0         0.3        0.9          2.3  \n",
       "\n",
       "[5 rows x 51 columns]"
      ]
     },
     "execution_count": 12,
     "metadata": {},
     "output_type": "execute_result"
    }
   ],
   "source": [
    "lightweight_feature_set = ['Home', '(Double digit stats)', 'Player Avg Pts/min', 'Team Avg Pace', 'Opponent Avg Pace', \n",
    "                           'Team FG', 'Team FGA', 'Team 3P', 'Team 3PA', 'Team 2P', 'Team 2PA', 'Team FT', 'Team FTA', \n",
    "                           'Team TRB', 'Team AST', 'Team STL', 'Team BLK', 'Team TOV', 'Team PF', \n",
    "                           'Team Avg Points', 'Opp FG', 'Opp FGA', 'Opp 3P', 'Opp 3PA', 'Opp 2P', 'Opp 2PA', 'Opp FT', \n",
    "                           'Opp FTA', 'Opp TRB', 'Opp AST', 'Opp STL', 'Opp BLK', 'Opp TOV', 'Opp PF', \n",
    "                           'Opp Avg PTS', 'Player Age', 'Player FG', 'Player FGA', 'Player 3P', 'Player 3PA', 'Player 2P', \n",
    "                           'Player 2PA', 'Player FT', 'Player FTA', 'Player TRB', 'Player AST', 'Player STL', \n",
    "                           'Player BLK', 'Player TOV', 'Player PF', 'Player PS/G']\n",
    "\n",
    "X_lightweight_ft = dataset_raw[lightweight_feature_set].copy()\n",
    "X_lightweight_ft.head(5)"
   ]
  },
  {
   "cell_type": "markdown",
   "metadata": {},
   "source": [
    "#### Creating the Version 3 dataset: Fully custom"
   ]
  },
  {
   "cell_type": "markdown",
   "metadata": {},
   "source": [
    "For this dataset, we want to make changes that we feel will make the data more compeling.  \n",
    "\n",
    "Our dataset has a lot of stats, but they are season averages. We feel this isn't applicable to the whole season. What we decided to do is replace most of them by the average by month. We not only feel that this will make the model more applicable to the whole season, but we also think we could capture the idea of a player being \"on fire\" for a streach of time.  \n",
    "\n",
    "To accomplish this, we'll use the [NBA Stats](https://stats.nba.com/) API. Now, this API isn't really well documented. So to get the info we needed, we had to manually use the [NBA Stats](https://stats.nba.com/) website and look around in the network inspector. So please excuse the less than stellar code.  "
   ]
  },
  {
   "cell_type": "markdown",
   "metadata": {},
   "source": [
    "First, let's define the initial features we want. This dataset will be a mix of the previous two, with some feature removed because of changes we want to make later on."
   ]
  },
  {
   "cell_type": "code",
   "execution_count": 13,
   "metadata": {},
   "outputs": [],
   "source": [
    "'''\n",
    "custom_feature_set = ['Name', 'DK Team', 'DK Opponent', 'Home', '(Double digit stats)', \n",
    "                    'Player Avg Pts/min', 'Team Avg Pace', 'Opponent Avg Pace', 'Team FG', \n",
    "                    'Team FGA', 'Team FG%', 'Team 3P', 'Team 3PA', 'Team 3P%', 'Team 2P', 'Team 2PA', 'Team 2P%', \n",
    "                    'Team FT', 'Team FTA', 'Team FT%', 'Team ORB', 'Team DRB', 'Team TRB', 'Team AST', 'Team STL', \n",
    "                    'Team BLK', 'Team TOV', 'Team PF', 'Team Avg Points', 'Opp FG', 'Opp FGA', 'Opp FG%', 'Opp 3P', \n",
    "                    'Opp 3PA', 'Opp 3P%', 'Opp 2P', 'Opp 2PA', 'Opp 2P%', 'Opp FT', 'Opp FTA', 'Opp FT%', 'Opp ORB', \n",
    "                    'Opp DRB', 'Opp TRB', 'Opp AST', 'Opp STL', 'Opp BLK', 'Opp TOV', 'Opp PF', 'Opp Avg PTS', \n",
    "                    'Player Age', 'Player FG', 'Player FGA', 'Player FG%', 'Player 3P', 'Player 3PA', 'Player 3P%', \n",
    "                    'Player 2P', 'Player 2PA', 'Player 2P%', 'Player eFG%', 'Player FT', 'Player FTA', 'Player FT%', \n",
    "                    'Player ORB', 'Player DRB', 'Player TRB', 'Player AST', 'Player STL', 'Player BLK', 'Player TOV', \n",
    "                    'Player PF', 'Player PS/G', 'Month']\n",
    "'''\n",
    "\n",
    "# May seem light, but we'll add a lot of data\n",
    "custom_feature_set = ['Name', 'DK Team', 'DK Opponent', 'Home', 'Month']\n",
    "\n",
    "X_custom_ft = dataset_raw[custom_feature_set].copy()"
   ]
  },
  {
   "cell_type": "markdown",
   "metadata": {},
   "source": [
    "Second, let's replace the opponent team by the defensive rating of that team for the month. Defensive rating is an estimate of the points allowed per 100 possessions. We start by building a dictionary with the defensive rating by month for all teams."
   ]
  },
  {
   "cell_type": "code",
   "execution_count": 14,
   "metadata": {},
   "outputs": [],
   "source": [
    "import requests"
   ]
  },
  {
   "cell_type": "code",
   "execution_count": 15,
   "metadata": {},
   "outputs": [
    {
     "name": "stdout",
     "output_type": "stream",
     "text": [
      "Caught RequestException, so we use the hard-coded backup\n"
     ]
    }
   ],
   "source": [
    "URL = \"https://stats.nba.com/stats/leaguedashteamstats/\"\n",
    "\n",
    "# A lot of these might seem useless since they have empty values, but the API behaves weirdly when you remove them.\n",
    "PARAMS = {\n",
    "    'Conference':'',\n",
    "    'DateFrom':'',\n",
    "    'DateTo':'',\n",
    "    'Division':'',\n",
    "    'GameScope':'',\n",
    "    'GameSegment':'',\n",
    "    'LastNGames':0,\n",
    "    'LeagueID':'00',\n",
    "    'Location':'',\n",
    "    'MeasureType':'Defense',\n",
    "    'Month':1, # this will be dynamically changed\n",
    "    'OpponentTeamID':0,\n",
    "    'Outcome':'',\n",
    "    'PORound':0,\n",
    "    'PaceAdjust':'N',\n",
    "    'PerMode':'PerGame',\n",
    "    'Period':0,\n",
    "    'PlayerExperience':'',\n",
    "    'PlayerPosition':'',\n",
    "    'PlusMinus':'N',\n",
    "    'Rank':'N',\n",
    "    'Season':'2017-18',\n",
    "    'SeasonSegment':'',\n",
    "    'SeasonType':'Regular Season',\n",
    "    'ShotClockRange':'',\n",
    "    'StarterBench':'',\n",
    "    'TeamID':0,\n",
    "    'TwoWay':0,\n",
    "    'VsConference':'',\n",
    "    'VsDivision':''\n",
    "}\n",
    "\n",
    "# need to trick API into thinking we're a browser\n",
    "HEADERS = {\n",
    "    'User-Agent': 'Mozilla/5.0 (Windows NT 10.0; Win64; x64) AppleWebKit/537.36 (KHTML, like Gecko) Chrome/78.0.3904.70 Safari/537.36'\n",
    "}\n",
    "\n",
    "def_ratings = {\n",
    "    '10': {},\n",
    "    '11': {},\n",
    "    '12': {},\n",
    "    '1': {},\n",
    "    '2': {},\n",
    "    '3': {},\n",
    "    '4': {}\n",
    "}\n",
    "\n",
    "try:\n",
    "    month_count = 1 #pretty ugly, do it better\n",
    "    for month_rating in def_ratings:\n",
    "        PARAMS['Month'] = month_count # this seems weird, but to the NBA API, October is month 1 and not 10\n",
    "        r = requests.get(url = URL, params = PARAMS, headers = HEADERS) \n",
    "        data = r.json()\n",
    "        for team_info in data['resultSets'][0]['rowSet']:\n",
    "            def_ratings[month_rating][team_info[1]] = team_info[7]\n",
    "        month_count+=1\n",
    "except requests.exceptions.RequestException:\n",
    "    '''\n",
    "    Unfortunatly, the NBA stats API seems unstable. Luckly, we saved a run so the cell bellow can be used. \n",
    "    We prefered including the request to show that we did not do this manually.\n",
    "    '''\n",
    "    print(\"Caught RequestException, so we use the hard-coded backup\")\n",
    "    def_ratings = { '10': {'Atlanta Hawks': 106.7, 'Boston Celtics': 98.1, 'Brooklyn Nets': 111.0, 'Charlotte Hornets': 101.7, 'Chicago Bulls': 106.7, 'Cleveland Cavaliers': 111.6, 'Dallas Mavericks': 110.5, 'Denver Nuggets': 105.6, 'Detroit Pistons': 104.3, 'Golden State Warriors': 110.9, 'Houston Rockets': 105.1, 'Indiana Pacers': 107.4, 'LA Clippers': 101.0, 'Los Angeles Lakers': 101.4, 'Memphis Grizzlies': 99.3, 'Miami Heat': 108.8, 'Milwaukee Bucks': 106.1, 'Minnesota Timberwolves': 114.6, 'New Orleans Pelicans': 105.6, 'New York Knicks': 104.9, 'Oklahoma City Thunder': 98.4, 'Orlando Magic': 103.7, 'Philadelphia 76ers': 106.3, 'Phoenix Suns': 108.5, 'Portland Trail Blazers': 99.7, 'Sacramento Kings': 107.3, 'San Antonio Spurs': 102.7, 'Toronto Raptors': 96.7, 'Utah Jazz': 97.9, 'Washington Wizards': 101.1}, \n",
    "                    '11': {'Atlanta Hawks': 111.7, 'Boston Celtics': 100.3, 'Brooklyn Nets': 107.0, 'Charlotte Hornets': 111.9, 'Chicago Bulls': 109.5, 'Cleveland Cavaliers': 107.8, 'Dallas Mavericks': 104.3, 'Denver Nuggets': 108.7, 'Detroit Pistons': 106.2, 'Golden State Warriors': 99.6, 'Houston Rockets': 102.6, 'Indiana Pacers': 108.7, 'LA Clippers': 111.4, 'Los Angeles Lakers': 104.8, 'Memphis Grizzlies': 109.6, 'Miami Heat': 103.5, 'Milwaukee Bucks': 107.6, 'Minnesota Timberwolves': 106.1, 'New Orleans Pelicans': 107.4, 'New York Knicks': 107.6, 'Oklahoma City Thunder': 103.5, 'Orlando Magic': 112.0, 'Philadelphia 76ers': 103.8, 'Phoenix Suns': 110.4, 'Portland Trail Blazers': 101.0, 'Sacramento Kings': 110.9, 'San Antonio Spurs': 103.4, 'Toronto Raptors': 108.5, 'Utah Jazz': 105.0, 'Washington Wizards': 106.4}, \n",
    "                    '12': {'Atlanta Hawks': 110.4, 'Boston Celtics': 105.4, 'Brooklyn Nets': 107.0, 'Charlotte Hornets': 105.9, 'Chicago Bulls': 106.5, 'Cleveland Cavaliers': 110.0, 'Dallas Mavericks': 108.0, 'Denver Nuggets': 107.8, 'Detroit Pistons': 104.4, 'Golden State Warriors': 103.8, 'Houston Rockets': 111.5, 'Indiana Pacers': 110.7, 'LA Clippers': 106.3, 'Los Angeles Lakers': 112.2, 'Memphis Grizzlies': 111.8, 'Miami Heat': 108.8, 'Milwaukee Bucks': 112.1, 'Minnesota Timberwolves': 109.9, 'New Orleans Pelicans': 112.3, 'New York Knicks': 106.0, 'Oklahoma City Thunder': 106.2, 'Orlando Magic': 111.0, 'Philadelphia 76ers': 106.6, 'Phoenix Suns': 110.0, 'Portland Trail Blazers': 108.5, 'Sacramento Kings': 112.7, 'San Antonio Spurs': 103.9, 'Toronto Raptors': 103.2, 'Utah Jazz': 109.6, 'Washington Wizards': 106.2}, \n",
    "                    '1': {'Atlanta Hawks': 110.8, 'Boston Celtics': 99.1, 'Brooklyn Nets': 107.7, 'Charlotte Hornets': 106.5, 'Chicago Bulls': 112.9, 'Cleveland Cavaliers': 112.9, 'Dallas Mavericks': 108.3, 'Denver Nuggets': 108.7, 'Detroit Pistons': 110.3, 'Golden State Warriors': 112.6, 'Houston Rockets': 107.4, 'Indiana Pacers': 105.4, 'LA Clippers': 107.8, 'Los Angeles Lakers': 107.7, 'Memphis Grizzlies': 107.0, 'Miami Heat': 102.2, 'Milwaukee Bucks': 108.3, 'Minnesota Timberwolves': 109.4, 'New Orleans Pelicans': 107.3, 'New York Knicks': 110.9, 'Oklahoma City Thunder': 107.9, 'Orlando Magic': 112.6, 'Philadelphia 76ers': 104.0, 'Phoenix Suns': 112.1, 'Portland Trail Blazers': 110.7, 'Sacramento Kings': 111.0, 'San Antonio Spurs': 100.5, 'Toronto Raptors': 105.4, 'Utah Jazz': 105.9, 'Washington Wizards': 110.2}, \n",
    "                    '2': {'Atlanta Hawks': 107.3, 'Boston Celtics': 109.4, 'Brooklyn Nets': 113.6, 'Charlotte Hornets': 113.6, 'Chicago Bulls': 111.8, 'Cleveland Cavaliers': 112.9, 'Dallas Mavericks': 112.1, 'Denver Nuggets': 116.9, 'Detroit Pistons': 108.4, 'Golden State Warriors': 106.3, 'Houston Rockets': 103.5, 'Indiana Pacers': 106.7, 'LA Clippers': 108.7, 'Los Angeles Lakers': 106.8, 'Memphis Grizzlies': 110.9, 'Miami Heat': 107.6, 'Milwaukee Bucks': 106.9, 'Minnesota Timberwolves': 112.6, 'New Orleans Pelicans': 107.1, 'New York Knicks': 111.7, 'Oklahoma City Thunder': 111.6, 'Orlando Magic': 112.3, 'Philadelphia 76ers': 102.2, 'Phoenix Suns': 116.3, 'Portland Trail Blazers': 107.9, 'Sacramento Kings': 114.5, 'San Antonio Spurs': 111.1, 'Toronto Raptors': 103.7, 'Utah Jazz': 101.4, 'Washington Wizards': 109.2}, \n",
    "                    '3': {'Atlanta Hawks': 113.1, 'Boston Celtics': 103.7, 'Brooklyn Nets': 114.3, 'Charlotte Hornets': 112.3, 'Chicago Bulls': 112.7, 'Cleveland Cavaliers': 112.2, 'Dallas Mavericks': 107.7, 'Denver Nuggets': 113.1, 'Detroit Pistons': 105.0, 'Golden State Warriors': 107.1, 'Houston Rockets': 103.7, 'Indiana Pacers': 103.4, 'LA Clippers': 110.7, 'Los Angeles Lakers': 108.3, 'Memphis Grizzlies': 113.6, 'Miami Heat': 106.7, 'Milwaukee Bucks': 112.0, 'Minnesota Timberwolves': 113.0, 'New Orleans Pelicans': 106.3, 'New York Knicks': 114.6, 'Oklahoma City Thunder': 107.9, 'Orlando Magic': 104.9, 'Philadelphia 76ers': 102.3, 'Phoenix Suns': 113.9, 'Portland Trail Blazers': 104.7, 'Sacramento Kings': 109.1, 'San Antonio Spurs': 102.9, 'Toronto Raptors': 110.3, 'Utah Jazz': 97.5, 'Washington Wizards': 109.2}, \n",
    "                    '4': {'Atlanta Hawks': 105.9, 'Boston Celtics': 106.4, 'Brooklyn Nets': 108.0, 'Charlotte Hornets': 108.6, 'Chicago Bulls': 112.3, 'Cleveland Cavaliers': 110.4, 'Dallas Mavericks': 111.3, 'Denver Nuggets': 107.5, 'Detroit Pistons': 109.0, 'Golden State Warriors': 113.0, 'Houston Rockets': 104.9, 'Indiana Pacers': 109.7, 'LA Clippers': 120.5, 'Los Angeles Lakers': 106.4, 'Memphis Grizzlies': 118.5, 'Miami Heat': 105.4, 'Milwaukee Bucks': 108.8, 'Minnesota Timberwolves': 107.5, 'New Orleans Pelicans': 100.5, 'New York Knicks': 109.5, 'Oklahoma City Thunder': 104.7, 'Orlando Magic': 104.7, 'Philadelphia 76ers': 102.2, 'Phoenix Suns': 108.5, 'Portland Trail Blazers': 103.6, 'Sacramento Kings': 98.9, 'San Antonio Spurs': 109.0, 'Toronto Raptors': 100.2, 'Utah Jazz': 98.0, 'Washington Wizards': 109.9}}\n",
    "    "
   ]
  },
  {
   "cell_type": "markdown",
   "metadata": {},
   "source": [
    "Now that we have the information we need, let's add the feature to the dataset."
   ]
  },
  {
   "cell_type": "code",
   "execution_count": 16,
   "metadata": {},
   "outputs": [
    {
     "data": {
      "text/html": [
       "<div>\n",
       "<style scoped>\n",
       "    .dataframe tbody tr th:only-of-type {\n",
       "        vertical-align: middle;\n",
       "    }\n",
       "\n",
       "    .dataframe tbody tr th {\n",
       "        vertical-align: top;\n",
       "    }\n",
       "\n",
       "    .dataframe thead th {\n",
       "        text-align: right;\n",
       "    }\n",
       "</style>\n",
       "<table border=\"1\" class=\"dataframe\">\n",
       "  <thead>\n",
       "    <tr style=\"text-align: right;\">\n",
       "      <th></th>\n",
       "      <th>Name</th>\n",
       "      <th>DK Team</th>\n",
       "      <th>DK Opponent</th>\n",
       "      <th>Home</th>\n",
       "      <th>Month</th>\n",
       "      <th>opp_def_rating</th>\n",
       "    </tr>\n",
       "  </thead>\n",
       "  <tbody>\n",
       "    <tr>\n",
       "      <td>1</td>\n",
       "      <td>Aaron Brooks</td>\n",
       "      <td>Min</td>\n",
       "      <td>Det</td>\n",
       "      <td>0</td>\n",
       "      <td>10</td>\n",
       "      <td>104.3</td>\n",
       "    </tr>\n",
       "    <tr>\n",
       "      <td>2</td>\n",
       "      <td>Aaron Brooks</td>\n",
       "      <td>Min</td>\n",
       "      <td>GS</td>\n",
       "      <td>0</td>\n",
       "      <td>11</td>\n",
       "      <td>99.6</td>\n",
       "    </tr>\n",
       "    <tr>\n",
       "      <td>3</td>\n",
       "      <td>Aaron Brooks</td>\n",
       "      <td>Min</td>\n",
       "      <td>Cha</td>\n",
       "      <td>1</td>\n",
       "      <td>11</td>\n",
       "      <td>111.9</td>\n",
       "    </tr>\n",
       "    <tr>\n",
       "      <td>4</td>\n",
       "      <td>Aaron Brooks</td>\n",
       "      <td>Min</td>\n",
       "      <td>Dal</td>\n",
       "      <td>0</td>\n",
       "      <td>11</td>\n",
       "      <td>104.3</td>\n",
       "    </tr>\n",
       "    <tr>\n",
       "      <td>5</td>\n",
       "      <td>Aaron Brooks</td>\n",
       "      <td>Min</td>\n",
       "      <td>Dal</td>\n",
       "      <td>1</td>\n",
       "      <td>11</td>\n",
       "      <td>104.3</td>\n",
       "    </tr>\n",
       "  </tbody>\n",
       "</table>\n",
       "</div>"
      ],
      "text/plain": [
       "           Name DK Team DK Opponent  Home  Month  opp_def_rating\n",
       "1  Aaron Brooks     Min         Det     0     10           104.3\n",
       "2  Aaron Brooks     Min          GS     0     11            99.6\n",
       "3  Aaron Brooks     Min         Cha     1     11           111.9\n",
       "4  Aaron Brooks     Min         Dal     0     11           104.3\n",
       "5  Aaron Brooks     Min         Dal     1     11           104.3"
      ]
     },
     "execution_count": 16,
     "metadata": {},
     "output_type": "execute_result"
    }
   ],
   "source": [
    "# first need to define a match between team names from NBA stats API and our dataset\n",
    "team_name_acronymes = {\n",
    "    'Hou':'Houston Rockets',\n",
    "    'Sac':'Sacramento Kings',\n",
    "    'Atl':'Atlanta Hawks',\n",
    "    'SA':'San Antonio Spurs',\n",
    "    'Pho':'Phoenix Suns',\n",
    "    'Uta':'Utah Jazz',\n",
    "    'Dal':'Dallas Mavericks',\n",
    "    'Cha':'Charlotte Hornets',\n",
    "    'Bos':'Boston Celtics',\n",
    "    'OKC':'Oklahoma City Thunder',\n",
    "    'LAL':'Los Angeles Lakers',\n",
    "    'Orl':'Orlando Magic',\n",
    "    'NY':'New York Knicks',\n",
    "    'GS':'Golden State Warriors',\n",
    "    'Tor':'Toronto Raptors',\n",
    "    'Was':'Washington Wizards',\n",
    "    'LAC':'LA Clippers',\n",
    "    'NO':'New Orleans Pelicans',\n",
    "    'Den':'Denver Nuggets',\n",
    "    'Phi':'Philadelphia 76ers',\n",
    "    'Chi':'Chicago Bulls',\n",
    "    'Min':'Minnesota Timberwolves',\n",
    "    'Bkn':'Brooklyn Nets',\n",
    "    'Ind':'Indiana Pacers',\n",
    "    'Mia':'Miami Heat',\n",
    "    'Det':'Detroit Pistons',\n",
    "    'Por':'Portland Trail Blazers',\n",
    "    'Cle':'Cleveland Cavaliers',\n",
    "    'Mil':'Milwaukee Bucks',\n",
    "    'Mem':'Memphis Grizzlies'\n",
    "}\n",
    "\n",
    "\n",
    "def get_defensive_rating(row, acronyme_dict, ratings_dict):\n",
    "    '''\n",
    "    Return the defensive rating of the opponent (DK Opponent feature) in the given row.\n",
    "    '''\n",
    "    full_team_name = acronyme_dict[row['DK Opponent']]\n",
    "    month = row['Month']\n",
    "    return ratings_dict[str(month)][full_team_name]\n",
    "\n",
    "# apply lamba on all rows of dataset to add a feature for opponent defensive rating\n",
    "X_custom_ft['opp_def_rating'] = X_custom_ft.apply(lambda row: get_defensive_rating(row, team_name_acronymes, def_ratings), axis=1)\n",
    "\n",
    "X_custom_ft.head(5)"
   ]
  },
  {
   "cell_type": "markdown",
   "metadata": {},
   "source": [
    "Next, we'll add the monthly averages of the player's individual stats. We will follow the same pattern as we did for the defensive rating."
   ]
  },
  {
   "cell_type": "code",
   "execution_count": 17,
   "metadata": {},
   "outputs": [],
   "source": [
    "URL = \"https://stats.nba.com/stats/leaguedashplayerstats/\"\n",
    "\n",
    "PARAMS = {\n",
    "    'College':'',\n",
    "    'Conference':'',\n",
    "    'Country':'',\n",
    "    'DateFrom':'',\n",
    "    'DateTo':'',\n",
    "    'Division':'',\n",
    "    'DraftPick':'',\n",
    "    'DraftYear':'',\n",
    "    'GameScope':'',\n",
    "    'GameSegment':'',\n",
    "    'Height':'',\n",
    "    'LastNGames':0,\n",
    "    'LeagueID':'00',\n",
    "    'Location':'',\n",
    "    'MeasureType':'Base',\n",
    "    'Month':1,\n",
    "    'OpponentTeamID':0,\n",
    "    'Outcome':'',\n",
    "    'PORound':0,\n",
    "    'PaceAdjust':'N',\n",
    "    'PerMode':'PerGame',\n",
    "    'Period':0,\n",
    "    'PlayerExperience':'',\n",
    "    'PlayerPosition':'',\n",
    "    'PlusMinus':'N',\n",
    "    'Rank':'N',\n",
    "    'Season':'2017-18',\n",
    "    'SeasonSegment':'',\n",
    "    'SeasonType':'Regular Season',\n",
    "    'ShotClockRange':'',\n",
    "    'StarterBench':'',\n",
    "    'TeamID':0,\n",
    "    'TwoWay':0,\n",
    "    'VsConference':'',\n",
    "    'VsDivision':'',\n",
    "    'Weight':''\n",
    "}\n",
    "\n",
    "#need to trick API into thinking we're a browser\n",
    "HEADERS = {\n",
    "    'User-Agent': 'Mozilla/5.0 (Windows NT 10.0; Win64; x64) AppleWebKit/537.36 (KHTML, like Gecko) Chrome/78.0.3904.70 Safari/537.36'\n",
    "}\n",
    "\n",
    "player_month_stats = {\n",
    "    '10': {},\n",
    "    '11': {},\n",
    "    '12': {},\n",
    "    '1': {},\n",
    "    '2': {},\n",
    "    '3': {},\n",
    "    '4': {}\n",
    "}\n",
    "\n",
    "month_count = 1 #pretty ugly, do it better\n",
    "for month in player_month_stats:\n",
    "    PARAMS['Month'] = month_count\n",
    "    r = requests.get(url = URL, params = PARAMS, headers = HEADERS) \n",
    "    data = r.json()\n",
    "    for player_info in data['resultSets'][0]['rowSet']:\n",
    "        personal_stats = {}\n",
    "        personal_stats['id'] = player_info[0]\n",
    "        personal_stats['name'] = player_info[1]\n",
    "        personal_stats['GP'] = player_info[5]\n",
    "        personal_stats['min_avg'] = player_info[9]\n",
    "        personal_stats['pts_avg'] = player_info[29]\n",
    "        personal_stats['fgm_avg'] = player_info[10]\n",
    "        personal_stats['fga_avg'] = player_info[11]\n",
    "        personal_stats['fga_prct'] = player_info[12]\n",
    "        personal_stats['3gm_avg'] = player_info[13]\n",
    "        personal_stats['3ga_avg'] = player_info[14]\n",
    "        personal_stats['3ga_prct'] = player_info[15]\n",
    "        personal_stats['ftm_avg'] = player_info[16]\n",
    "        personal_stats['fta_avg'] = player_info[17]\n",
    "        personal_stats['fta_prct'] =player_info[18]\n",
    "        personal_stats['oreb'] = player_info[19]\n",
    "        personal_stats['dreb'] = player_info[20]\n",
    "        personal_stats['reb'] = player_info[21]\n",
    "        personal_stats['ast'] = player_info[22]\n",
    "        personal_stats['tov'] = player_info[23]\n",
    "        personal_stats['stl'] = player_info[24]\n",
    "        personal_stats['blk'] = player_info[25]\n",
    "        player_month_stats[month][player_info[1].replace(\" \", \"\").lower()] = personal_stats\n",
    "    month_count+=1"
   ]
  },
  {
   "cell_type": "markdown",
   "metadata": {},
   "source": [
    "Now that we have our data, lets add it to the dataset"
   ]
  },
  {
   "cell_type": "code",
   "execution_count": 18,
   "metadata": {},
   "outputs": [
    {
     "name": "stdout",
     "output_type": "stream",
     "text": [
      "Shape of the created dataframe with player monthly stats: (25494, 18)\n",
      "\n",
      "Need to remove 324 rows from dataset because of missing data\n",
      "Shape before removal: (25818, 6)\n",
      "Shape after removal: (25494, 6)\n",
      "\n",
      "Shape of X_full_ft after removal: (25494, 602)\n",
      "Shape of X_lightweight_ft after removal: (25494, 51)\n",
      "Shape of y after removal: (25494,)\n",
      "\n",
      "Shape of X_custom_ft after adding monthly player stats: (25494, 24)\n"
     ]
    }
   ],
   "source": [
    "def gen_month_stats_dataset(df, player_month_stats):\n",
    "\n",
    "    data = []\n",
    "    bad_rows = []\n",
    "    for index, row in df.iterrows():\n",
    "        player = row['Name'].replace(\" \", \"\").lower()\n",
    "        month = row['Month']\n",
    "        if(player in player_month_stats[str(month)]):\n",
    "            player_stats = player_month_stats[str(month)][player]\n",
    "            row = [player_stats['min_avg'], player_stats['pts_avg'], player_stats['fgm_avg'], player_stats['fga_avg'], \n",
    "                   player_stats['fga_prct'], player_stats['3gm_avg'], player_stats['3ga_avg'], player_stats['3ga_prct'], \n",
    "                   player_stats['ftm_avg'], player_stats['fta_avg'], player_stats['fta_prct'], player_stats['oreb'], \n",
    "                   player_stats['dreb'], player_stats['reb'], player_stats['ast'], player_stats['tov'], player_stats['stl'], \n",
    "                   player_stats['blk']]\n",
    "            data.append(row)\n",
    "        else:\n",
    "            bad_rows.append(index)\n",
    "            \n",
    "    dataframe = pd.DataFrame(data, columns=['player_min_avg', 'player_pts_avg', 'player_fgm_avg', 'player_fga_avg', \n",
    "                                            'player_fga_prct', 'player_3gm_avg', 'player_3ga_avg', \n",
    "                                            'player_3ga_prct', 'player_ftm_avg', 'player_fta_avg','player_fta_prct', \n",
    "                                            'player_oreb_avg', 'player_dreb_avg', 'player_reb_avg', 'player_ast_avg', \n",
    "                                            'player_tov_avg', 'player_stl_avg', 'player_blk_avg'])\n",
    "    return dataframe, bad_rows\n",
    "\n",
    "month_stats_df, rows_to_remove = gen_month_stats_dataset(X_custom_ft, player_month_stats)\n",
    "print(\"Shape of the created dataframe with player monthly stats: {}\".format(month_stats_df.shape))\n",
    "print()\n",
    "\n",
    "print(\"Need to remove {} rows from dataset because of missing data\".format(len(rows_to_remove)))\n",
    "print(\"Shape before removal: {}\".format(X_custom_ft.shape))\n",
    "X_custom_ft = X_custom_ft.drop(rows_to_remove)\n",
    "print(\"Shape after removal: {}\".format(X_custom_ft.shape))\n",
    "print()\n",
    "\n",
    "#Just to have all the datasets contain the same data, we'll remove the bad rows from our other datasets\n",
    "X_full_ft = X_full_ft.drop(rows_to_remove)\n",
    "X_lightweight_ft = X_lightweight_ft.drop(rows_to_remove)\n",
    "y = y.drop(rows_to_remove)\n",
    "print(\"Shape of X_full_ft after removal: {}\".format(X_full_ft.shape))\n",
    "print(\"Shape of X_lightweight_ft after removal: {}\".format(X_lightweight_ft.shape))\n",
    "print(\"Shape of y after removal: {}\".format(y.shape))\n",
    "print()\n",
    "\n",
    "# Here there is a slight worry about concatenation based on ordering. But order should have been maintained.\n",
    "# Possible area of improvement\n",
    "X_custom_ft = pd.concat([X_custom_ft.reset_index(drop=True), month_stats_df.reset_index(drop=True)], axis=1)\n",
    "print(\"Shape of X_custom_ft after adding monthly player stats: {}\".format(X_custom_ft.shape))"
   ]
  },
  {
   "cell_type": "markdown",
   "metadata": {},
   "source": [
    "Now We'll do the same, but for the team and opponent stats."
   ]
  },
  {
   "cell_type": "code",
   "execution_count": 19,
   "metadata": {},
   "outputs": [],
   "source": [
    "URL = \"https://stats.nba.com/stats/leaguedashteamstats/\"\n",
    "\n",
    "PARAMS = {\n",
    "    'Conference':'',\n",
    "    'DateFrom':'',\n",
    "    'DateTo':'',\n",
    "    'Division':'',\n",
    "    'GameScope':'',\n",
    "    'GameSegment':'',\n",
    "    'LastNGames':0,\n",
    "    'LeagueID':'00',\n",
    "    'Location':'',\n",
    "    'MeasureType':'Base',\n",
    "    'Month':1,\n",
    "    'OpponentTeamID':0,\n",
    "    'Outcome':'',\n",
    "    'PORound':0,\n",
    "    'PaceAdjust':'N',\n",
    "    'PerMode':'PerGame',\n",
    "    'Period':0,\n",
    "    'PlayerExperience':'',\n",
    "    'PlayerPosition':'',\n",
    "    'PlusMinus':'N',\n",
    "    'Rank':'N',\n",
    "    'Season':'2017-18',\n",
    "    'SeasonSegment':'',\n",
    "    'SeasonType':'Regular Season',\n",
    "    'ShotClockRange':'',\n",
    "    'StarterBench':'',\n",
    "    'TeamID':0,\n",
    "    'TwoWay':0,\n",
    "    'VsConference':'',\n",
    "    'VsDivision':''\n",
    "}\n",
    "\n",
    "#need to trick API into thinking we're a browser\n",
    "HEADERS = {\n",
    "    'Connection': 'keep-alive',\n",
    "    'Accept': 'application/json, text/plain, */*',\n",
    "    'x-nba-stats-token': 'true',\n",
    "    'X-NewRelic-ID': 'VQECWF5UChAHUlNTBwgBVw==',\n",
    "    'User-Agent': 'Mozilla/5.0 (Windows NT 10.0; Win64; x64) AppleWebKit/537.36 (KHTML, like Gecko) Chrome/78.0.3904.97 Safari/537.36',\n",
    "    'x-nba-stats-origin': 'stats',\n",
    "    'Sec-Fetch-Site': 'same-origin ',\n",
    "    'Sec-Fetch-Mode': 'cors',\n",
    "    'Referer': 'https://stats.nba.com/teams/traditional/?sort=W_PCT&dir=-1&Season=2017-18&SeasonType=Regular%20Season&Month=1',\n",
    "    'Accept-Encoding': 'gzip, deflate, br',\n",
    "    'Accept-Language': 'en-US,en;q=0.9,fr;q=0.8'\n",
    "}\n",
    "\n",
    "team_montly_stats = {\n",
    "    '10': {},\n",
    "    '11': {},\n",
    "    '12': {},\n",
    "    '1': {},\n",
    "    '2': {},\n",
    "    '3': {},\n",
    "    '4': {}\n",
    "}\n",
    "\n",
    "month_count = 1\n",
    "for month in team_montly_stats:\n",
    "    PARAMS['Month'] = month_count\n",
    "    r = requests.get(url = URL, params = PARAMS, headers = HEADERS) \n",
    "    data = r.json()\n",
    "    for team_info in data['resultSets'][0]['rowSet']:\n",
    "        team_stats = {}\n",
    "        team_stats['id'] = team_info[0]\n",
    "        team_stats['name'] = team_info[1]\n",
    "        team_stats['GP'] = team_info[2]\n",
    "        team_stats['pts_avg'] = team_info[26]\n",
    "        team_stats['fgm_avg'] = team_info[7]\n",
    "        team_stats['fga_avg'] = team_info[8]\n",
    "        team_stats['fga_prct'] = team_info[9]\n",
    "        team_stats['3gm_avg'] = team_info[10]\n",
    "        team_stats['3ga_avg'] = team_info[11]\n",
    "        team_stats['3ga_prct'] = team_info[12]\n",
    "        team_stats['ftm_avg'] = team_info[13]\n",
    "        team_stats['fta_avg'] = team_info[14]\n",
    "        team_stats['fta_prct'] =team_info[15]\n",
    "        team_stats['oreb'] = team_info[16]\n",
    "        team_stats['dreb'] = team_info[17]\n",
    "        team_stats['reb'] = team_info[18]\n",
    "        team_stats['ast'] = team_info[19]\n",
    "        team_stats['tov'] = team_info[20]\n",
    "        team_stats['stl'] = team_info[21]\n",
    "        team_stats['blk'] = team_info[22]\n",
    "\n",
    "        team_montly_stats[str(month)][team_info[1]] = team_stats\n",
    "    month_count+=1"
   ]
  },
  {
   "cell_type": "code",
   "execution_count": 20,
   "metadata": {},
   "outputs": [
    {
     "name": "stdout",
     "output_type": "stream",
     "text": [
      "Shape of the created dataframe with team monthly stats: (25494, 17)\n",
      "Shape of the created dataframe with opponent monthly stats: (25494, 17)\n",
      "\n",
      "Shape before adding team and opponent stats dataframes: (25494, 24)\n",
      "\n",
      "['Home', 'opp_def_rating', 'player_min_avg', 'player_pts_avg', 'player_fgm_avg', 'player_fga_avg', 'player_fga_prct', 'player_3gm_avg', 'player_3ga_avg', 'player_3ga_prct', 'player_ftm_avg', 'player_fta_avg', 'player_fta_prct', 'player_oreb_avg', 'player_dreb_avg', 'player_reb_avg', 'player_ast_avg', 'player_tov_avg', 'player_stl_avg', 'player_blk_avg', 'team_pts_avg', 'team_fgm_avg', 'team_fga_avg', 'team_fga_prct', 'team_3gm_avg', 'team_3ga_avg', 'team_3ga_prct', 'team_ftm_avg', 'team_fta_avg', 'team_fta_prct', 'team_oreb_avg', 'team_dreb_avg', 'team_reb_avg', 'team_ast_avg', 'team_tov_avg', 'team_stl_avg', 'team_blk_avg', 'opp_pts_avg', 'opp_fgm_avg', 'opp_fga_avg', 'opp_fga_prct', 'opp_3gm_avg', 'opp_3ga_avg', 'opp_3ga_prct', 'opp_ftm_avg', 'opp_fta_avg', 'opp_fta_prct', 'opp_oreb_avg', 'opp_dreb_avg', 'opp_reb_avg', 'opp_ast_avg', 'opp_tov_avg', 'opp_stl_avg', 'opp_blk_avg']\n",
      "(25494, 54)\n"
     ]
    }
   ],
   "source": [
    "def gen_team_monthly_stats_df(df, teams_monthly_stats, reference_feature, acronyme_dict, ft_prefix):\n",
    "\n",
    "    data = []\n",
    "    for index, row in df.iterrows():\n",
    "        team = row[reference_feature]\n",
    "        team_full_name = acronyme_dict[team]\n",
    "        month = row['Month']\n",
    "        team_stats = teams_monthly_stats[str(month)][team_full_name]\n",
    "        row = [team_stats['pts_avg'], team_stats['fgm_avg'], team_stats['fga_avg'], \n",
    "               team_stats['fga_prct'], team_stats['3gm_avg'], team_stats['3ga_avg'], team_stats['3ga_prct'], \n",
    "               team_stats['ftm_avg'], team_stats['fta_avg'], team_stats['fta_prct'], team_stats['oreb'], \n",
    "               team_stats['dreb'], team_stats['reb'], team_stats['ast'], team_stats['tov'], team_stats['stl'], \n",
    "               team_stats['blk']]\n",
    "        data.append(row)\n",
    "            \n",
    "    dataframe = pd.DataFrame(data, columns=[ft_prefix+'_pts_avg', ft_prefix+'_fgm_avg', \n",
    "                                            ft_prefix+'_fga_avg', ft_prefix+'_fga_prct', ft_prefix+'_3gm_avg', \n",
    "                                            ft_prefix+'_3ga_avg', ft_prefix+'_3ga_prct', ft_prefix+'_ftm_avg', \n",
    "                                            ft_prefix+'_fta_avg',ft_prefix+'_fta_prct', ft_prefix+'_oreb_avg', \n",
    "                                            ft_prefix+'_dreb_avg', ft_prefix+'_reb_avg', ft_prefix+'_ast_avg', \n",
    "                                            ft_prefix+'_tov_avg', ft_prefix+'_stl_avg', ft_prefix+'_blk_avg'])\n",
    "    return dataframe\n",
    "\n",
    "team_month_stats_df = gen_team_monthly_stats_df(X_custom_ft, team_montly_stats, \"DK Team\", team_name_acronymes, \"team\")\n",
    "opp_month_stats_df = gen_team_monthly_stats_df(X_custom_ft, team_montly_stats, \"DK Opponent\", team_name_acronymes, \"opp\")\n",
    "\n",
    "print(\"Shape of the created dataframe with team monthly stats: {}\".format(team_month_stats_df.shape))\n",
    "print(\"Shape of the created dataframe with opponent monthly stats: {}\".format(opp_month_stats_df.shape))\n",
    "print()\n",
    "\n",
    "print(\"Shape before adding team and opponent stats dataframes: {}\".format(X_custom_ft.shape))\n",
    "print()\n",
    "\n",
    "# Here there is a slight worry about concatenation based on ordering. But order should have been maintained.\n",
    "# Possible area of improvement\n",
    "X_custom_ft = pd.concat([X_custom_ft.reset_index(drop=True), team_month_stats_df.reset_index(drop=True)], axis=1)\n",
    "X_custom_ft = pd.concat([X_custom_ft.reset_index(drop=True), opp_month_stats_df.reset_index(drop=True)], axis=1)\n",
    "\n",
    "# pop the columns not needed anymore\n",
    "X_custom_ft.pop('Name')\n",
    "X_custom_ft.pop('DK Team')\n",
    "X_custom_ft.pop('DK Opponent')\n",
    "X_custom_ft.pop('Month')\n",
    "\n",
    "print(list(X_custom_ft))\n",
    "print(X_custom_ft.shape)"
   ]
  },
  {
   "cell_type": "markdown",
   "metadata": {},
   "source": [
    "### Finalizing the datasets"
   ]
  },
  {
   "cell_type": "markdown",
   "metadata": {},
   "source": [
    "All our datasets are now built. Let's split them into the training and testing sets and we'll be able to start the learning and evaluation."
   ]
  },
  {
   "cell_type": "code",
   "execution_count": 77,
   "metadata": {},
   "outputs": [],
   "source": [
    "from sklearn.model_selection import train_test_split\n",
    "\n",
    "X_full_train, X_full_test, X_lw_train, X_lw_test, X_custom_train, X_custom_test, y_train, y_test = train_test_split(X_full_ft, X_lightweight_ft, X_custom_ft, y, test_size = 0.2, random_state=1)"
   ]
  },
  {
   "cell_type": "markdown",
   "metadata": {},
   "source": [
    "## Basic approach"
   ]
  },
  {
   "cell_type": "markdown",
   "metadata": {},
   "source": [
    "Before doing any machine learning, we want to use a basic approach so that we can judge if we gained anything from the learning approaches.  \n",
    "\n",
    "This basic approach will simply use the player's average stats and multiply them by their fantasy points value.  "
   ]
  },
  {
   "cell_type": "markdown",
   "metadata": {},
   "source": [
    "### Prediction"
   ]
  },
  {
   "cell_type": "markdown",
   "metadata": {},
   "source": [
    "First, we'll need to define scoring accoring to [DraftKings](https://www.draftkings.com/help/rules/nba)."
   ]
  },
  {
   "cell_type": "code",
   "execution_count": 22,
   "metadata": {},
   "outputs": [],
   "source": [
    "DK_scoring = {\n",
    "    'point': 1,\n",
    "    '3pt_made': 0.5,\n",
    "    'rebound': 1.25,\n",
    "    'assist': 1.5,\n",
    "    'steal': 2,\n",
    "    'block': 2,\n",
    "    'turnover': -0.5,\n",
    "    'dd': 1.5,\n",
    "    'td': 3\n",
    "}"
   ]
  },
  {
   "cell_type": "markdown",
   "metadata": {},
   "source": [
    "We also need some utility methods."
   ]
  },
  {
   "cell_type": "code",
   "execution_count": 23,
   "metadata": {},
   "outputs": [],
   "source": [
    "def count_double_digit_stats(row, stat_lbls):\n",
    "    '''\n",
    "    For a given dataframe row, returns the number of stats from stat_lbls \n",
    "    that are in double digit.\n",
    "    '''\n",
    "    count = 0\n",
    "    for lbl in stat_lbls:\n",
    "        if (row[lbl] // 10) >= 1:\n",
    "            count+= 1\n",
    "    return count\n",
    "\n",
    "def basic_predict(df, lbl_pts, lbl_3pt, lbl_reb, lbl_ast, lbl_stl, lbl_blk, lbl_to, scoring_dict):\n",
    "    '''\n",
    "    Uses the basic method to predict the fantasy scores for the examples in the given dataframe.\n",
    "    Scoring is based on the given column labels and the scoring dictionnary.\n",
    "    '''\n",
    "    data = []\n",
    "    for index, row in df.iterrows():\n",
    "        score = 0\n",
    "        score+= row[lbl_pts] * scoring_dict['point']\n",
    "        score+= row[lbl_3pt] * scoring_dict['3pt_made']\n",
    "        score+= row[lbl_reb] * scoring_dict['rebound']\n",
    "        score+= row[lbl_ast] * scoring_dict['assist']\n",
    "        score+= row[lbl_stl] * scoring_dict['steal']\n",
    "        score+= row[lbl_blk] * scoring_dict['block']\n",
    "        score+= row[lbl_to] * scoring_dict['turnover']\n",
    "        double_digit_stats = count_double_digit_stats(row, [lbl_pts, lbl_reb, lbl_ast, lbl_stl, lbl_blk])\n",
    "        if(double_digit_stats == 2):\n",
    "            score+= scoring_dict['dd']\n",
    "        elif(double_digit_stats > 2):\n",
    "            score+= scoring_dict['td']\n",
    "        \n",
    "        data.append(score)\n",
    "            \n",
    "    dataframe = pd.DataFrame(data, columns=['DK Points'])\n",
    "    return dataframe"
   ]
  },
  {
   "cell_type": "markdown",
   "metadata": {},
   "source": [
    "Now we can get predictions with the basic approach"
   ]
  },
  {
   "cell_type": "code",
   "execution_count": 20,
   "metadata": {},
   "outputs": [],
   "source": [
    "basic_prediction_full_test = basic_predict(X_full_test, 'Player PS/G', 'Player 3P','Player TRB','Player AST','Player STL','Player BLK','Player TOV', DK_scoring)\n",
    "basic_prediction_lw_test = basic_predict(X_lw_test, 'Player PS/G', 'Player 3P','Player TRB','Player AST','Player STL','Player BLK','Player TOV', DK_scoring)\n",
    "basic_prediction_custom_test = basic_predict(X_custom_test, 'player_pts_avg', 'player_3gm_avg', 'player_reb_avg', 'player_ast_avg', 'player_stl_avg', 'player_blk_avg', 'player_tov_avg', DK_scoring)\n"
   ]
  },
  {
   "cell_type": "markdown",
   "metadata": {},
   "source": [
    "### Evaluation"
   ]
  },
  {
   "cell_type": "code",
   "execution_count": 26,
   "metadata": {},
   "outputs": [],
   "source": [
    "from sklearn.metrics import mean_absolute_error\n",
    "from sklearn.metrics import mean_squared_error"
   ]
  },
  {
   "cell_type": "code",
   "execution_count": 22,
   "metadata": {},
   "outputs": [
    {
     "name": "stdout",
     "output_type": "stream",
     "text": [
      "Mean absolute error for basic method with the full feature set:  7.0165767797607375\n",
      "Mean absolute error for basic method with the lightweight feature set:  7.0165767797607375\n",
      "Mean absolute error for basic method with the custom feature set:  6.357570111786625\n",
      "\n",
      "Mean squared error for basic method with the full feature set:  80.41135945773681\n",
      "Mean squared error for basic method with the lightweight feature set:  80.41135945773681\n",
      "Mean squared error for basic method with the custom feature set:  67.73900838399686\n"
     ]
    }
   ],
   "source": [
    "basic_full_mae = mean_absolute_error(basic_prediction_full_test['DK Points'].values, y_test.values)\n",
    "basic_lw_mae = mean_absolute_error(basic_prediction_lw_test['DK Points'].values, y_test.values)\n",
    "basic_custom_mae = mean_absolute_error(basic_prediction_custom_test['DK Points'].values, y_test.values)\n",
    "\n",
    "basic_full_mse = mean_squared_error(basic_prediction_full_test['DK Points'].values, y_test.values)\n",
    "basic_lw_mse = mean_squared_error(basic_prediction_lw_test['DK Points'].values, y_test.values)\n",
    "basic_custom_mse = mean_squared_error(basic_prediction_custom_test['DK Points'].values, y_test.values)\n",
    "\n",
    "print(\"Mean absolute error for basic method with the full feature set: \", basic_full_mae)\n",
    "print(\"Mean absolute error for basic method with the lightweight feature set: \", basic_lw_mae)\n",
    "print(\"Mean absolute error for basic method with the custom feature set: \", basic_custom_mae)\n",
    "print()\n",
    "print(\"Mean squared error for basic method with the full feature set: \", basic_full_mse)\n",
    "print(\"Mean squared error for basic method with the lightweight feature set: \", basic_lw_mse)\n",
    "print(\"Mean squared error for basic method with the custom feature set: \", basic_custom_mse)"
   ]
  },
  {
   "cell_type": "markdown",
   "metadata": {},
   "source": [
    "## Multilayer Perceptron"
   ]
  },
  {
   "cell_type": "markdown",
   "metadata": {},
   "source": [
    "Next, we'll train a multilayer perceptron and use it to predict fantasy scores."
   ]
  },
  {
   "cell_type": "markdown",
   "metadata": {},
   "source": [
    "### Training"
   ]
  },
  {
   "cell_type": "code",
   "execution_count": 27,
   "metadata": {},
   "outputs": [],
   "source": [
    "from sklearn.neural_network import MLPRegressor\n",
    "import datetime\n",
    "import matplotlib.pyplot as plt"
   ]
  },
  {
   "cell_type": "markdown",
   "metadata": {},
   "source": [
    "Our first attemp at building a model will use a single layer of 100 neurones and the rest default parameters."
   ]
  },
  {
   "cell_type": "code",
   "execution_count": 24,
   "metadata": {},
   "outputs": [],
   "source": [
    "full_fs_mlp = MLPRegressor(hidden_layer_sizes=(75))\n",
    "lw_fs_mlp = MLPRegressor(hidden_layer_sizes=(75))\n",
    "custom_fs_mlp = MLPRegressor(hidden_layer_sizes=(75))"
   ]
  },
  {
   "cell_type": "code",
   "execution_count": 33,
   "metadata": {},
   "outputs": [],
   "source": [
    "# TODO: credit earlier notebook\n",
    "def plotScores(scores_train, scores_test):\n",
    "    \"\"\"\n",
    "    Visualizer les scores avec matplotlib.\n",
    "    :param scores_train: Liste des scores d'entrainment\n",
    "    :param scores_test: Liste des scores de test\n",
    "    :return None\n",
    "    \"\"\"\n",
    "    # Visualizer les points\n",
    "    plt.plot([i for i in range(len(scores_train))], scores_train)\n",
    "    plt.plot([i for i in range(len(scores_test))], scores_test)\n",
    "    # Ajouter une légende\n",
    "    plt.legend([\"Train scores\", \"Test Scores\"])\n",
    "    # Renommé les axes\n",
    "    plt.ylabel(\"Score\")\n",
    "    plt.xlabel(\"Epoch\")\n",
    "    plt.show()"
   ]
  },
  {
   "cell_type": "code",
   "execution_count": 4,
   "metadata": {},
   "outputs": [],
   "source": [
    "# TODO: credit earlier notebook\n",
    "def train_and_evaluate(mlp_regressor, X_train, y_train, X_test, y_test, nb_epochs=10):\n",
    "    \"\"\"\n",
    "    Trains the given model and returns the accuracy\n",
    "    for both training and test sets (by epoch).\n",
    "    \n",
    "    :param mlp_regressor: scikit learn MLPRegressor\n",
    "    :param X_train: training data attribute\n",
    "    :param y_train: training data prediction\n",
    "    :param X_test: test data attribute\n",
    "    :param y_test: test data prediction\n",
    "    :param epochs: default = 10, number of iterations\n",
    "    :return: accuracy for both training and test data\n",
    "    \"\"\"\n",
    "    \n",
    "    scores_train = []\n",
    "    scores_test = []\n",
    "    print(\"Starting training and evaluating...\")\n",
    "    for i in range(1, nb_epochs + 1):\n",
    "        print(\"Epoch:\" + str(i) + \"/\" + str(nb_epochs) + \" -- \" + str(datetime.datetime.now()))\n",
    "        mlp_regressor.fit(X_train, y_train)\n",
    "        scores_train.append(mlp_regressor.score(X_train, y_train))\n",
    "        scores_test.append(mlp_regressor.score(X_test, y_test))\n",
    "    print(\"Done training and evaluating.\")\n",
    "    return scores_train, scores_test"
   ]
  },
  {
   "cell_type": "code",
   "execution_count": 32,
   "metadata": {},
   "outputs": [
    {
     "name": "stdout",
     "output_type": "stream",
     "text": [
      "Starting training and evaluating...\n",
      "Epoch:1/15 -- 2019-11-18 23:20:02.180236\n",
      "Epoch:2/15 -- 2019-11-18 23:20:57.464430\n",
      "Epoch:3/15 -- 2019-11-18 23:21:34.273138\n",
      "Epoch:4/15 -- 2019-11-18 23:22:43.580921\n",
      "Epoch:5/15 -- 2019-11-18 23:23:27.695435\n",
      "Epoch:6/15 -- 2019-11-18 23:24:15.440357\n",
      "Epoch:7/15 -- 2019-11-18 23:24:56.648485\n",
      "Epoch:8/15 -- 2019-11-18 23:25:42.485863\n",
      "Epoch:9/15 -- 2019-11-18 23:26:23.703979\n",
      "Epoch:10/15 -- 2019-11-18 23:27:11.053643\n",
      "Epoch:11/15 -- 2019-11-18 23:27:45.368533\n",
      "Epoch:12/15 -- 2019-11-18 23:28:36.127558\n",
      "Epoch:13/15 -- 2019-11-18 23:29:24.384042\n",
      "Epoch:14/15 -- 2019-11-18 23:30:06.562034\n",
      "Epoch:15/15 -- 2019-11-18 23:30:52.359781\n",
      "Done training and evaluating.\n",
      "Starting training and evaluating...\n",
      "Epoch:1/15 -- 2019-11-18 23:31:38.857233\n",
      "Epoch:2/15 -- 2019-11-18 23:31:55.758101\n",
      "Epoch:3/15 -- 2019-11-18 23:32:16.492048\n",
      "Epoch:4/15 -- 2019-11-18 23:32:32.724301\n",
      "Epoch:5/15 -- 2019-11-18 23:32:51.342802\n",
      "Epoch:6/15 -- 2019-11-18 23:33:11.523188\n",
      "Epoch:7/15 -- 2019-11-18 23:33:32.722412\n",
      "Epoch:8/15 -- 2019-11-18 23:33:53.174093\n",
      "Epoch:9/15 -- 2019-11-18 23:34:16.925547\n",
      "Epoch:10/15 -- 2019-11-18 23:34:32.737214\n",
      "Epoch:11/15 -- 2019-11-18 23:34:53.751504\n",
      "Epoch:12/15 -- 2019-11-18 23:35:16.905529\n",
      "Epoch:13/15 -- 2019-11-18 23:35:38.829739\n",
      "Epoch:14/15 -- 2019-11-18 23:36:01.909522\n",
      "Epoch:15/15 -- 2019-11-18 23:36:17.313525\n",
      "Done training and evaluating.\n",
      "Starting training and evaluating...\n",
      "Epoch:1/15 -- 2019-11-18 23:36:30.541585\n",
      "Epoch:2/15 -- 2019-11-18 23:36:48.030966\n",
      "Epoch:3/15 -- 2019-11-18 23:37:10.891098\n",
      "Epoch:4/15 -- 2019-11-18 23:37:22.906108\n",
      "Epoch:5/15 -- 2019-11-18 23:37:42.842831\n",
      "Epoch:6/15 -- 2019-11-18 23:38:02.339723\n",
      "Epoch:7/15 -- 2019-11-18 23:38:22.097430\n",
      "Epoch:8/15 -- 2019-11-18 23:38:46.458488\n",
      "Epoch:9/15 -- 2019-11-18 23:39:04.604623\n",
      "Epoch:10/15 -- 2019-11-18 23:39:20.105471\n",
      "Epoch:11/15 -- 2019-11-18 23:39:39.159969\n",
      "Epoch:12/15 -- 2019-11-18 23:40:01.958159\n",
      "Epoch:13/15 -- 2019-11-18 23:40:15.088866\n",
      "Epoch:14/15 -- 2019-11-18 23:40:24.765676\n",
      "Epoch:15/15 -- 2019-11-18 23:40:43.298653\n",
      "Done training and evaluating.\n"
     ]
    }
   ],
   "source": [
    "full_fs_scores_train, full_fs_scores_test = train_and_evaluate(full_fs_mlp, X_full_train, y_train, X_full_test, y_test, 15)\n",
    "lw_fs_scores_train, lw_fs_scores_test = train_and_evaluate(lw_fs_mlp, X_lw_train, y_train, X_lw_test, y_test, 15)\n",
    "custom_fs_scores_train, custom_fs_scores_test = train_and_evaluate(custom_fs_mlp, X_custom_train, y_train, X_custom_test, y_test, 15)"
   ]
  },
  {
   "cell_type": "code",
   "execution_count": 33,
   "metadata": {},
   "outputs": [
    {
     "data": {
      "image/png": "[encoded data removed]",
      "text/plain": [
       "<Figure size 432x288 with 1 Axes>"
      ]
     },
     "metadata": {
      "needs_background": "light"
     },
     "output_type": "display_data"
    },
    {
     "data": {
      "image/png": "[encoded data removed]",
      "text/plain": [
       "<Figure size 432x288 with 1 Axes>"
      ]
     },
     "metadata": {
      "needs_background": "light"
     },
     "output_type": "display_data"
    },
    {
     "data": {
      "image/png": "[encoded data removed]",
      "text/plain": [
       "<Figure size 432x288 with 1 Axes>"
      ]
     },
     "metadata": {
      "needs_background": "light"
     },
     "output_type": "display_data"
    }
   ],
   "source": [
    "plotScores(full_fs_scores_train, full_fs_scores_test)\n",
    "plotScores(lw_fs_scores_train, lw_fs_scores_test)\n",
    "plotScores(custom_fs_scores_train, custom_fs_scores_test)"
   ]
  },
  {
   "cell_type": "markdown",
   "metadata": {},
   "source": [
    "### Prediction"
   ]
  },
  {
   "cell_type": "code",
   "execution_count": 34,
   "metadata": {},
   "outputs": [],
   "source": [
    "mlp_prediction_full = full_fs_mlp.predict(X_full_test)\n",
    "mlp_prediction_lw = lw_fs_mlp.predict(X_lw_test)\n",
    "mlp_prediction_custom = custom_fs_mlp.predict(X_custom_test)\n"
   ]
  },
  {
   "cell_type": "markdown",
   "metadata": {},
   "source": [
    "### Evaluate"
   ]
  },
  {
   "cell_type": "code",
   "execution_count": 35,
   "metadata": {},
   "outputs": [
    {
     "name": "stdout",
     "output_type": "stream",
     "text": [
      "Mean absolute error for mlp method with the full feature set:  5.265335262983338\n",
      "Mean absolute error for mlp method with the lightweight feature set:  5.269018414476778\n",
      "Mean absolute error for basic method with the custom feature set:  6.345970784208543\n",
      "\n",
      "Mean squared error for mlp method with the full feature set:  45.0585300786934\n",
      "Mean squared error for mlp method with the lightweight feature set:  45.66248708054821\n",
      "Mean squared error for mlp method with the custom feature set:  67.54181759732987\n"
     ]
    }
   ],
   "source": [
    "mlp_full_mae = mean_absolute_error(mlp_prediction_full, y_test.values)\n",
    "mlp_lw_mae = mean_absolute_error(mlp_prediction_lw, y_test.values)\n",
    "mlp_custom_mae = mean_absolute_error(mlp_prediction_custom, y_test.values)\n",
    "\n",
    "mlp_full_mse = mean_squared_error(mlp_prediction_full, y_test.values)\n",
    "mlp_lw_mse = mean_squared_error(mlp_prediction_lw, y_test.values)\n",
    "mlp_custom_mse = mean_squared_error(mlp_prediction_custom, y_test.values)\n",
    "\n",
    "print(\"Mean absolute error for mlp method with the full feature set: \", mlp_full_mae)\n",
    "print(\"Mean absolute error for mlp method with the lightweight feature set: \", mlp_lw_mae)\n",
    "print(\"Mean absolute error for mlp method with the custom feature set: \", mlp_custom_mae)\n",
    "print()\n",
    "print(\"Mean squared error for mlp method with the full feature set: \", mlp_full_mse)\n",
    "print(\"Mean squared error for mlp method with the lightweight feature set: \", mlp_lw_mse)\n",
    "print(\"Mean squared error for mlp method with the custom feature set: \", mlp_custom_mse)"
   ]
  },
  {
   "cell_type": "markdown",
   "metadata": {},
   "source": [
    "## References"
   ]
  },
  {
   "cell_type": "markdown",
   "metadata": {},
   "source": [
    "- One hot encoding using pandas: http://www.insightsbot.com/blog/zuyVu/python-one-hot-encoding-with-pandas-made-simple\n",
    "- Change the date column: https://stackoverflow.com/questions/21954197/which-is-the-fastest-way-to-extract-day-month-and-year-from-a-given-date\n",
    "- Defensive rating definition: https://www.basketball-reference.com/leagues/NBA_2019_ratings.html\n",
    "- Use of requests in python: https://www.geeksforgeeks.org/get-post-requests-using-python/\n",
    "- Handling of request exceptions: https://stackoverflow.com/questions/16511337/correct-way-to-try-except-using-python-requests-module\n",
    "- Add column to pandas dataframe based on other columns: https://stackoverflow.com/questions/26886653/pandas-create-new-column-based-on-values-from-other-columns-apply-a-function-o\n",
    "- concat dataframes on x axis: https://stackoverflow.com/questions/47655296/pandas-merge-two-datasets-with-same-number-of\n",
    "- Evaluating regression models: https://medium.com/usf-msds/choosing-the-right-metric-for-machine-learning-models-part-1-a99d7d7414e4"
   ]
  },
  {
   "cell_type": "markdown",
   "metadata": {},
   "source": [
    "## Regression Decision Tree"
   ]
  },
  {
   "cell_type": "markdown",
   "metadata": {},
   "source": [
    "Next, we'll train a regression tree and use it to predict fantasy scores. We will use the same three versions of the dataset and the same training data split: X_full_train, X_full_test, X_lw_train, X_lw_test, X_custom_train, X_custom_test, y_train, y_test.  \n",
    "\n",
    "Since the depth of a regression decision tree can reach N -1 (where N is the number of element in the dataset). That is because the least effective split will only remove one element for every decision. This is obviously not what we want and we will need to set a max_depth so the tree doesn't get too big. "
   ]
  },
  {
   "cell_type": "code",
   "execution_count": 72,
   "metadata": {},
   "outputs": [],
   "source": [
    "from sklearn.tree import DecisionTreeRegressor  \n",
    "\n",
    "full_fs_rtree = DecisionTreeRegressor(random_state = 0, splitter=\"random\")\n",
    "lw_fs_rtree = DecisionTreeRegressor(random_state = 0, splitter=\"random\")\n",
    "custom_fs_rtree = DecisionTreeRegressor(random_state = 0, splitter=\"random\")"
   ]
  },
  {
   "cell_type": "markdown",
   "metadata": {},
   "source": [
    "TODO: explain why one hot is not good here so we need to rebuild full_feature dataset"
   ]
  },
  {
   "cell_type": "code",
   "execution_count": 90,
   "metadata": {},
   "outputs": [
    {
     "name": "stdout",
     "output_type": "stream",
     "text": [
      "(25494, 75)\n",
      "(25494, 51)\n",
      "(25494, 54)\n",
      "(25494,)\n"
     ]
    }
   ],
   "source": [
    "# full_feature_set is the source for the first dataset that we are using\n",
    "# we want to go back to the original to get rid of the one hot encoding\n",
    "X_full_ft_V2 = dataset_raw[full_feature_set].copy()\n",
    "#Just reusing the same pre-processing that was used on the original X_full_ft dataset\n",
    "X_full_ft_V2 = X_full_ft_V2.drop(rows_to_remove)\n",
    "\n",
    "X_full_train_V2, X_full_test_V2, X_lw_train, X_lw_test, X_custom_train, X_custom_test, y_train, y_test = train_test_split(X_full_ft_V2, X_lightweight_ft, X_custom_ft, y, test_size = 0.2, random_state=1)"
   ]
  },
  {
   "cell_type": "code",
   "execution_count": 91,
   "metadata": {},
   "outputs": [
    {
     "ename": "ValueError",
     "evalue": "could not convert string to float: 'Andre Roberson'",
     "output_type": "error",
     "traceback": [
      "\u001b[1;31m---------------------------------------------------------------------------\u001b[0m",
      "\u001b[1;31mValueError\u001b[0m                                Traceback (most recent call last)",
      "\u001b[1;32m<ipython-input-91-30a551e139ff>\u001b[0m in \u001b[0;36m<module>\u001b[1;34m\u001b[0m\n\u001b[1;32m----> 1\u001b[1;33m \u001b[0mrtree_full\u001b[0m \u001b[1;33m=\u001b[0m \u001b[0mfull_fs_rtree\u001b[0m\u001b[1;33m.\u001b[0m\u001b[0mfit\u001b[0m\u001b[1;33m(\u001b[0m\u001b[0mX_full_train_V2\u001b[0m\u001b[1;33m,\u001b[0m \u001b[0my_train\u001b[0m\u001b[1;33m)\u001b[0m\u001b[1;33m\u001b[0m\u001b[1;33m\u001b[0m\u001b[0m\n\u001b[0m\u001b[0;32m      2\u001b[0m \u001b[0mrtree_lw\u001b[0m \u001b[1;33m=\u001b[0m \u001b[0mlw_fs_rtree\u001b[0m\u001b[1;33m.\u001b[0m\u001b[0mfit\u001b[0m\u001b[1;33m(\u001b[0m\u001b[0mX_lw_train\u001b[0m\u001b[1;33m,\u001b[0m \u001b[0my_train\u001b[0m\u001b[1;33m)\u001b[0m\u001b[1;33m\u001b[0m\u001b[1;33m\u001b[0m\u001b[0m\n\u001b[0;32m      3\u001b[0m \u001b[0mrtree_custom\u001b[0m \u001b[1;33m=\u001b[0m \u001b[0mcustom_fs_rtree\u001b[0m\u001b[1;33m.\u001b[0m\u001b[0mfit\u001b[0m\u001b[1;33m(\u001b[0m\u001b[0mX_custom_train\u001b[0m\u001b[1;33m,\u001b[0m \u001b[0my_train\u001b[0m\u001b[1;33m)\u001b[0m\u001b[1;33m\u001b[0m\u001b[1;33m\u001b[0m\u001b[0m\n",
      "\u001b[1;32mc:\\users\\thoma\\appdata\\local\\programs\\python\\python37-32\\lib\\site-packages\\sklearn\\tree\\tree.py\u001b[0m in \u001b[0;36mfit\u001b[1;34m(self, X, y, sample_weight, check_input, X_idx_sorted)\u001b[0m\n\u001b[0;32m   1137\u001b[0m             \u001b[0msample_weight\u001b[0m\u001b[1;33m=\u001b[0m\u001b[0msample_weight\u001b[0m\u001b[1;33m,\u001b[0m\u001b[1;33m\u001b[0m\u001b[1;33m\u001b[0m\u001b[0m\n\u001b[0;32m   1138\u001b[0m             \u001b[0mcheck_input\u001b[0m\u001b[1;33m=\u001b[0m\u001b[0mcheck_input\u001b[0m\u001b[1;33m,\u001b[0m\u001b[1;33m\u001b[0m\u001b[1;33m\u001b[0m\u001b[0m\n\u001b[1;32m-> 1139\u001b[1;33m             X_idx_sorted=X_idx_sorted)\n\u001b[0m\u001b[0;32m   1140\u001b[0m         \u001b[1;32mreturn\u001b[0m \u001b[0mself\u001b[0m\u001b[1;33m\u001b[0m\u001b[1;33m\u001b[0m\u001b[0m\n\u001b[0;32m   1141\u001b[0m \u001b[1;33m\u001b[0m\u001b[0m\n",
      "\u001b[1;32mc:\\users\\thoma\\appdata\\local\\programs\\python\\python37-32\\lib\\site-packages\\sklearn\\tree\\tree.py\u001b[0m in \u001b[0;36mfit\u001b[1;34m(self, X, y, sample_weight, check_input, X_idx_sorted)\u001b[0m\n\u001b[0;32m    114\u001b[0m         \u001b[0mrandom_state\u001b[0m \u001b[1;33m=\u001b[0m \u001b[0mcheck_random_state\u001b[0m\u001b[1;33m(\u001b[0m\u001b[0mself\u001b[0m\u001b[1;33m.\u001b[0m\u001b[0mrandom_state\u001b[0m\u001b[1;33m)\u001b[0m\u001b[1;33m\u001b[0m\u001b[1;33m\u001b[0m\u001b[0m\n\u001b[0;32m    115\u001b[0m         \u001b[1;32mif\u001b[0m \u001b[0mcheck_input\u001b[0m\u001b[1;33m:\u001b[0m\u001b[1;33m\u001b[0m\u001b[1;33m\u001b[0m\u001b[0m\n\u001b[1;32m--> 116\u001b[1;33m             \u001b[0mX\u001b[0m \u001b[1;33m=\u001b[0m \u001b[0mcheck_array\u001b[0m\u001b[1;33m(\u001b[0m\u001b[0mX\u001b[0m\u001b[1;33m,\u001b[0m \u001b[0mdtype\u001b[0m\u001b[1;33m=\u001b[0m\u001b[0mDTYPE\u001b[0m\u001b[1;33m,\u001b[0m \u001b[0maccept_sparse\u001b[0m\u001b[1;33m=\u001b[0m\u001b[1;34m\"csc\"\u001b[0m\u001b[1;33m)\u001b[0m\u001b[1;33m\u001b[0m\u001b[1;33m\u001b[0m\u001b[0m\n\u001b[0m\u001b[0;32m    117\u001b[0m             \u001b[0my\u001b[0m \u001b[1;33m=\u001b[0m \u001b[0mcheck_array\u001b[0m\u001b[1;33m(\u001b[0m\u001b[0my\u001b[0m\u001b[1;33m,\u001b[0m \u001b[0mensure_2d\u001b[0m\u001b[1;33m=\u001b[0m\u001b[1;32mFalse\u001b[0m\u001b[1;33m,\u001b[0m \u001b[0mdtype\u001b[0m\u001b[1;33m=\u001b[0m\u001b[1;32mNone\u001b[0m\u001b[1;33m)\u001b[0m\u001b[1;33m\u001b[0m\u001b[1;33m\u001b[0m\u001b[0m\n\u001b[0;32m    118\u001b[0m             \u001b[1;32mif\u001b[0m \u001b[0missparse\u001b[0m\u001b[1;33m(\u001b[0m\u001b[0mX\u001b[0m\u001b[1;33m)\u001b[0m\u001b[1;33m:\u001b[0m\u001b[1;33m\u001b[0m\u001b[1;33m\u001b[0m\u001b[0m\n",
      "\u001b[1;32mc:\\users\\thoma\\appdata\\local\\programs\\python\\python37-32\\lib\\site-packages\\sklearn\\utils\\validation.py\u001b[0m in \u001b[0;36mcheck_array\u001b[1;34m(array, accept_sparse, accept_large_sparse, dtype, order, copy, force_all_finite, ensure_2d, allow_nd, ensure_min_samples, ensure_min_features, warn_on_dtype, estimator)\u001b[0m\n\u001b[0;32m    520\u001b[0m             \u001b[1;32mtry\u001b[0m\u001b[1;33m:\u001b[0m\u001b[1;33m\u001b[0m\u001b[1;33m\u001b[0m\u001b[0m\n\u001b[0;32m    521\u001b[0m                 \u001b[0mwarnings\u001b[0m\u001b[1;33m.\u001b[0m\u001b[0msimplefilter\u001b[0m\u001b[1;33m(\u001b[0m\u001b[1;34m'error'\u001b[0m\u001b[1;33m,\u001b[0m \u001b[0mComplexWarning\u001b[0m\u001b[1;33m)\u001b[0m\u001b[1;33m\u001b[0m\u001b[1;33m\u001b[0m\u001b[0m\n\u001b[1;32m--> 522\u001b[1;33m                 \u001b[0marray\u001b[0m \u001b[1;33m=\u001b[0m \u001b[0mnp\u001b[0m\u001b[1;33m.\u001b[0m\u001b[0masarray\u001b[0m\u001b[1;33m(\u001b[0m\u001b[0marray\u001b[0m\u001b[1;33m,\u001b[0m \u001b[0mdtype\u001b[0m\u001b[1;33m=\u001b[0m\u001b[0mdtype\u001b[0m\u001b[1;33m,\u001b[0m \u001b[0morder\u001b[0m\u001b[1;33m=\u001b[0m\u001b[0morder\u001b[0m\u001b[1;33m)\u001b[0m\u001b[1;33m\u001b[0m\u001b[1;33m\u001b[0m\u001b[0m\n\u001b[0m\u001b[0;32m    523\u001b[0m             \u001b[1;32mexcept\u001b[0m \u001b[0mComplexWarning\u001b[0m\u001b[1;33m:\u001b[0m\u001b[1;33m\u001b[0m\u001b[1;33m\u001b[0m\u001b[0m\n\u001b[0;32m    524\u001b[0m                 raise ValueError(\"Complex data not supported\\n\"\n",
      "\u001b[1;32mc:\\users\\thoma\\appdata\\local\\programs\\python\\python37-32\\lib\\site-packages\\numpy\\core\\numeric.py\u001b[0m in \u001b[0;36masarray\u001b[1;34m(a, dtype, order)\u001b[0m\n\u001b[0;32m    499\u001b[0m \u001b[1;33m\u001b[0m\u001b[0m\n\u001b[0;32m    500\u001b[0m     \"\"\"\n\u001b[1;32m--> 501\u001b[1;33m     \u001b[1;32mreturn\u001b[0m \u001b[0marray\u001b[0m\u001b[1;33m(\u001b[0m\u001b[0ma\u001b[0m\u001b[1;33m,\u001b[0m \u001b[0mdtype\u001b[0m\u001b[1;33m,\u001b[0m \u001b[0mcopy\u001b[0m\u001b[1;33m=\u001b[0m\u001b[1;32mFalse\u001b[0m\u001b[1;33m,\u001b[0m \u001b[0morder\u001b[0m\u001b[1;33m=\u001b[0m\u001b[0morder\u001b[0m\u001b[1;33m)\u001b[0m\u001b[1;33m\u001b[0m\u001b[1;33m\u001b[0m\u001b[0m\n\u001b[0m\u001b[0;32m    502\u001b[0m \u001b[1;33m\u001b[0m\u001b[0m\n\u001b[0;32m    503\u001b[0m \u001b[1;33m\u001b[0m\u001b[0m\n",
      "\u001b[1;31mValueError\u001b[0m: could not convert string to float: 'Andre Roberson'"
     ]
    }
   ],
   "source": [
    "rtree_full = full_fs_rtree.fit(X_full_train_V2, y_train)\n",
    "rtree_lw = lw_fs_rtree.fit(X_lw_train, y_train)\n",
    "rtree_custom = custom_fs_rtree.fit(X_custom_train, y_train)"
   ]
  },
  {
   "cell_type": "markdown",
   "metadata": {},
   "source": [
    "### Prediction"
   ]
  },
  {
   "cell_type": "code",
   "execution_count": 80,
   "metadata": {},
   "outputs": [],
   "source": [
    "rtree_prediction_full = rtree_full.predict(X_full_test_V2)\n",
    "rtree_prediction_lw = rtree_lw.predict(X_lw_test)\n",
    "rtree_prediction_custom = rtree_custom.predict(X_custom_test)"
   ]
  },
  {
   "cell_type": "markdown",
   "metadata": {},
   "source": [
    "### Evaluate"
   ]
  },
  {
   "cell_type": "code",
   "execution_count": 81,
   "metadata": {},
   "outputs": [
    {
     "name": "stdout",
     "output_type": "stream",
     "text": [
      "Mean absolute error for regression tree method with the full feature set:  5.42702490684448\n",
      "Mean absolute error for regression tree method with the lightweight feature set:  5.51688729816304\n",
      "Mean absolute error for regression tree method with the custom feature set:  7.0065944302804475\n",
      "Mean absolute error for regression tree method with the full feature set:  5.42702490684448\n",
      "\n",
      "Mean squared error for regression tree method with the full feature set:  65.77968792900569\n",
      "Mean squared error for regression tree method with the lightweight feature set:  67.33593857591902\n",
      "Mean squared error for regression tree method with the custom feature set:  114.06554508236908\n",
      "Mean squared error for regression tree method with the full feature set:  65.77968792900569\n"
     ]
    }
   ],
   "source": [
    "rtree_full_mae = mean_absolute_error(rtree_prediction_full, y_test.values)\n",
    "rtree_lw_mae = mean_absolute_error(rtree_prediction_lw, y_test.values)\n",
    "rtree_custom_mae = mean_absolute_error(rtree_prediction_custom, y_test.values)\n",
    "\n",
    "rtree_full_mse = mean_squared_error(rtree_prediction_full, y_test.values)\n",
    "rtree_lw_mse = mean_squared_error(rtree_prediction_lw, y_test.values)\n",
    "rtree_custom_mse = mean_squared_error(rtree_prediction_custom, y_test.values)\n",
    "\n",
    "print(\"Mean absolute error for regression tree method with the full feature set: \", rtree_full_mae)\n",
    "print(\"Mean absolute error for regression tree method with the lightweight feature set: \", rtree_lw_mae)\n",
    "print(\"Mean absolute error for regression tree method with the custom feature set: \", rtree_custom_mae)\n",
    "print()\n",
    "print(\"Mean squared error for regression tree method with the full feature set: \", rtree_full_mse)\n",
    "print(\"Mean squared error for regression tree method with the lightweight feature set: \", rtree_lw_mse)\n",
    "print(\"Mean squared error for regression tree method with the custom feature set: \", rtree_custom_mse)"
   ]
  },
  {
   "cell_type": "code",
   "execution_count": 55,
   "metadata": {},
   "outputs": [
    {
     "name": "stdout",
     "output_type": "stream",
     "text": [
      "Start optimisation:2019-11-19 20:38:06.091028\n",
      "End optimisation:2019-11-19 22:38:43.883294\n",
      "Mean absolute error for regression tree method with the full feature set:  5.345555704129279\n",
      "Mean squared error for regression tree method with the full feature set:  46.24443132959062\n"
     ]
    }
   ],
   "source": [
    "from sklearn.model_selection import GridSearchCV\n",
    "\n",
    "parameter_space = {\n",
    "    'criterion': ['mse', 'friedman_mse', 'mae'],\n",
    "    'splitter': ['best', 'random'],\n",
    "    'max_depth': [10,100,1000,None],\n",
    "    'min_samples_split': [2,10,100,0.1,0.2],\n",
    "    'min_samples_leaf': [1,5,10,0.01,0.1]\n",
    "}\n",
    "\n",
    "print(\"Start optimisation:\" + str(datetime.datetime.now()))\n",
    "test = GridSearchCV(full_fs_rtree, parameter_space, n_jobs=-1, cv=3)\n",
    "test_full = test.fit(X_full_train, y_train)\n",
    "print(\"End optimisation:\" + str(datetime.datetime.now()))\n",
    "test_prediction = test_full.predict(X_full_test)\n",
    "test_mae = mean_absolute_error(test_prediction, y_test.values)\n",
    "test_mse = mean_squared_error(test_prediction, y_test.values)\n",
    "print(\"Mean absolute error for regression tree method with the full feature set: \", test_mae)\n",
    "print(\"Mean squared error for regression tree method with the full feature set: \", test_mse)"
   ]
  },
  {
   "cell_type": "code",
   "execution_count": 59,
   "metadata": {},
   "outputs": [
    {
     "name": "stdout",
     "output_type": "stream",
     "text": [
      "Mean absolute error for regression tree method with the full feature set:  5.345555704129279\n"
     ]
    }
   ],
   "source": [
    "#JUST TESTING SERIALIZATION OF THE MODEL\n",
    "\n",
    "#from joblib import dump, load\n",
    "#dump(test_full, 'rtree_full_optimized.joblib')\n",
    "#rtree_full_optimized = load('rtree_full_optimized.joblib')\n",
    "\n",
    "import pickle\n",
    "\n",
    "filename = 'rtree_full_dump'\n",
    "outfile = open(filename,'wb')\n",
    "\n",
    "rtree_full_dump = pickle.dump(test_full, outfile)\n",
    "outfile.close()\n",
    "\n",
    "infile = open(filename,'rb')\n",
    "test2 = pickle.load(infile)\n",
    "infile.close()\n",
    "pred = test2.predict(X_full_test)\n",
    "print(\"Mean absolute error for regression tree method with the full feature set: \", mean_absolute_error(pred, y_test.values))\n",
    "#rtree_full_optimized = pickle.loads(rtree_full_dump)\n",
    "#rtree_full_optimized.predict(X[0:1])"
   ]
  }
 ],
 "metadata": {
  "kernelspec": {
   "display_name": "Python 3",
   "language": "python",
   "name": "python3"
  },
  "language_info": {
   "codemirror_mode": {
    "name": "ipython",
    "version": 3
   },
   "file_extension": ".py",
   "mimetype": "text/x-python",
   "name": "python",
   "nbconvert_exporter": "python",
   "pygments_lexer": "ipython3",
   "version": "3.7.1"
  }
 },
 "nbformat": 4,
 "nbformat_minor": 2
}
