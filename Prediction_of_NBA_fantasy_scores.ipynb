{
 "cells": [
  {
   "cell_type": "markdown",
   "metadata": {},
   "source": [
    "# Prediction of NBA fantasy scores"
   ]
  },
  {
   "cell_type": "markdown",
   "metadata": {},
   "source": [
    "This notebook is an experiment to see if we could use machine learning models to predict the fantasy production of NBA players. We plan on comparing two techniques, a MLP regressor and a decision tree regressor.  \n",
    "\n",
    "Credit to https://www.kaggle.com/jwals96/nba-201718-stats-and-fantasy-scores for the dataset we plan on using."
   ]
  },
  {
   "cell_type": "markdown",
   "metadata": {},
   "source": [
    "## Preparing the data"
   ]
  },
  {
   "cell_type": "markdown",
   "metadata": {},
   "source": [
    "### Ingesting and interpreting the dataset"
   ]
  },
  {
   "cell_type": "markdown",
   "metadata": {},
   "source": [
    "We'll start by simply using pandas to read our `.csv` file containing the dataset.  \n",
    "Our dataset is made up of many features, such as: \n",
    "- Player season averages (points, rebounds, assists, shooting percentage, etc.)\n",
    "- Information about specific game (date, home team, etc.)\n",
    "- Information about the opponent.\n",
    "- The players fantasy score.\n",
    "Every example in our dataset corresponds to a player's fantasy production for a specific game.  "
   ]
  },
  {
   "cell_type": "code",
   "execution_count": null,
   "metadata": {},
   "outputs": [],
   "source": [
    "import pandas as pd"
   ]
  },
  {
   "cell_type": "code",
   "execution_count": null,
   "metadata": {
    "scrolled": true
   },
   "outputs": [],
   "source": [
    "dataset_raw = pd.read_csv(\"NBA Stats Database - Player Game Stats 2017 (1).csv\")\n",
    "dataset_raw.head(5)"
   ]
  },
  {
   "cell_type": "markdown",
   "metadata": {},
   "source": [
    "Let's explore our data just to have a better idea of what is available to us."
   ]
  },
  {
   "cell_type": "code",
   "execution_count": null,
   "metadata": {},
   "outputs": [],
   "source": [
    "#columns\n",
    "print(\"All columns in the dataset:\")\n",
    "print(list(dataset_raw))\n",
    "print()\n",
    "\n",
    "# Shape of the dataset\n",
    "print(\"Number of examples in the dataset: \", dataset_raw.shape[0])\n",
    "print(\"Number of columns in the dataset: \", dataset_raw.shape[1])\n",
    "print()\n",
    "\n",
    "# Information about each column\n",
    "'''\n",
    "for column in list(dataset_raw):\n",
    "    print(dataset_raw[column].value_counts())\n",
    "    print()\n",
    "'''"
   ]
  },
  {
   "cell_type": "markdown",
   "metadata": {},
   "source": [
    "We plan to use different versions of the dataset to see which one performs the best. To do so, we think we should try to classify each feature of the dataset and then base our versions of the dataset on those categories. We decided to define the following categories:\n",
    "- **Main**: Those are features that we think belong in every dataset because we see them as having a good value.\n",
    "- **Derived**: Other feature(s) offers similar information or can litteraly be used to derive the feature.\n",
    "- **Useless**: Information is useless (e.g. '(vs.)').\n",
    "- **Not predictive**: Column offers no predictive value. I.e. it cannot be a feature in the test set.\n",
    "- **Optional**: We believe the column offers little value. This is very subjective, which leaves us room for experimentation.  \n",
    "\n",
    "Let's classify our features and explain a bit. This is going to be quite long, so please feel free to skip this: \n",
    "\n",
    "\n",
    "| Feature | Category | Justification |\n",
    "|:--------|:---------|:--------------|\n",
    "| 'Name' | **Optional** | we think a players stats should define him well enough. Also, on-hot encoding of this column would add 500+ features. |  \n",
    "| 'Position' | **Optional** | This is a bit 'inside baseball', but the modern move towards positionless basketball makes us think adding this feature wouldn't be usefull enough. |\n",
    "| '(NBAS Team)' | **Optional** | We don't believe knowing the team adds something if we know the team stats. Also, playing agains Miami in 2012 isn't the same as Miami in 2019, so there is a time constraint on this feature. |\n",
    "| '(BBref Team)' | **Useless** | This is also the team, see '(NBAS Team)' |\n",
    "| 'DK Team' | **Useless** | This is also the team, see '(NBAS Team)' |\n",
    "| '(Team)' | **Useless** | This is also the team, see '(NBAS Team)' |\n",
    "| '(vs.)' | **Useless** | This is useless. |\n",
    "| 'DK Opponent' | **Optional** | We believe knowing the opponent has limited value if we know the opponent stats. |\n",
    "| '(NBAS Opponent)' | **Useless** |  This is also the opponent, see 'DK Opponent' |\n",
    "| '(BBref Opponent)' | **Useless** | This is also the opponent, see 'DK Opponent' |\n",
    "| 'Home' | **Main** | Knowing if the game is at home seems very interesting as home court advantage is big in basketball. |\n",
    "| 'Match Up' | **Useless** | This is just a combination of team and opponent, so same reasonning. |\n",
    "| 'Date' | **Optional** | Wethink the date should not have to much impact, especially the exact date. Maybe the month can catch some trends. However, we will use this feature to do some changes later on. |\n",
    "| 'Min' | **Not predictive** | This is the number of minute played for a game. We don't know this beforehand, so no predictive value. |\n",
    "| '(Double digit stats)' | **Main** | Unfortunatly, we're not sure what this is, so we'll ignore it for now. It seems like it says how many of the player's stats were in double digit, which once again is not know beforhand so no predictive value. |\n",
    "| '(Unadj Pts)' | **Useless** | We made the design decision that our label column would be 'DK Points scored'. This column offers roughly the same information. |\n",
    "| 'DK Points Scored' | **Main** | This is our label column. Essential. |\n",
    "| 'Team Points' | **Not predictive** | This is the points the team scored. We don't know this beforehand, no predictive value. |\n",
    "| 'Player Avg Pts/min' | **Main** | This seems interesting since points are a big part of fantasy production. |\n",
    "| 'Team Avg Pace' | **Main** | Interesting since the higher the pace, the more chances there are to score for the player. |\n",
    "| 'Opponent Avg Pace' | **Main** | Same reasoning as 'Team Avg Pace'. |\n",
    "| 'Team FG' | **Main** | Team average field goal made per game. We find it interesting, though it's similar to the pace. |\n",
    "| 'Team FGA' | **Main** | Team average field goal attemps per game. We find it interesting, though it's similar to the pace. |\n",
    "| 'Team FG%' | **Derived** | While useful, it's fairly similiar to having both 'Team FG' and 'Team FGA'. |\n",
    "| 'Team 3P' | **Main** | Same reasoning as 'Team FG' |\n",
    "| 'Team 3PA' | **Main** | Same reasoning as 'Team FGA' | \n",
    "| 'Team 3P%' | **Derived** | Same reasoning as 'Team FG%' | \n",
    "| 'Team 2P' | **Main** | Same reasoning as 'Team FG' | \n",
    "| 'Team 2PA' | **Main** | Same reasoning as 'Team FGA' |\n",
    "| 'Team 2P%' | **Derived** | Same reasoning as 'Team FG%' | \n",
    "| 'Team FT' | **Main** | Same reasoning as 'Team FG' | \n",
    "| 'Team FTA' | **Main** | Same reasoning as 'Team FGA' | \n",
    "| 'Team FT%' | **Derived** | Same reasoning as 'Team FG%' | \n",
    "| 'Team ORB' | **Main** |  | \n",
    "| 'Team DRB' | **Main** |  |\n",
    "| 'Team TRB' | **Derived** |  |\n",
    "| 'Team AST' | **Main** |  |\n",
    "| 'Team STL' | **Main** |  |\n",
    "| 'Team BLK' | **Main** |  |\n",
    "| 'Team TOV' | **Main** |  |\n",
    "| 'Team PF' | **Optional** |  |\n",
    "| 'Team Avg Points' | **Main** |  |\n",
    "| 'Opp FG' | **Main** |  |\n",
    "| 'Opp FGA' | **Main** |  |\n",
    "| 'Opp FG%' | **Derived** |  |\n",
    "| 'Opp 3P' | **Main** |  |\n",
    "| 'Opp 3PA' | **Main** |  |\n",
    "| 'Opp 3P%' | **Derived** |  |\n",
    "| 'Opp 2P' | **Main** |  |\n",
    "| 'Opp 2PA' | **Main** |  |\n",
    "| 'Opp 2P%' | **Derived** |  |\n",
    "| 'Opp FT' | **Main** |  |\n",
    "| 'Opp FTA' | **Main** |  |\n",
    "| 'Opp FT%' | **Derived** |  |\n",
    "| 'Opp ORB' | **Main** |  |\n",
    "| 'Opp DRB' | **Main** |  |\n",
    "| 'Opp TRB' | **Derived** |  |\n",
    "| 'Opp AST' | **Main** |  |\n",
    "| 'Opp STL' | **Main** |  |\n",
    "| 'Opp BLK' | **Main** |  |\n",
    "| 'Opp TOV' | **Main** |  |\n",
    "| 'Opp PF' | **Main** |  |\n",
    "| 'Opp Avg PTS' | **Main** |  |\n",
    "| 'Player Age' | **Main** |  |\n",
    "| 'Player FG' | **Main** |  |\n",
    "| 'Player FGA' | **Main** |  |\n",
    "| 'Player FG%' | **Derived** |  |\n",
    "| 'Player 3P' | **Main** |  |\n",
    "| 'Player 3PA' | **Main** |  |\n",
    "| 'Player 3P%' | **Derived** |  |\n",
    "| 'Player 2P' | **Main** |  |\n",
    "| 'Player 2PA' | **Main** |  |\n",
    "| 'Player 2P%' | **Derived** |  |\n",
    "| 'Player eFG%' | **Derived** |  |\n",
    "| 'Player FT' | **Main** |  |\n",
    "| 'Player FTA' | **Main** |  |\n",
    "| 'Player FT%' | **Derived** |  |\n",
    "| 'Player ORB' | **Main** |  |\n",
    "| 'Player DRB' | **Main** |  |\n",
    "| 'Player TRB' | **Derived** |  |\n",
    "| 'Player AST' | **Main** |  |\n",
    "| 'Player STL' | **Main** |  |\n",
    "| 'Player BLK' | **Main** |  |\n",
    "| 'Player TOV' | **Main** |  |\n",
    "| 'Player PF' | **Main** |  |\n",
    "| 'Player PS/G' | **Main** |  |\n"
   ]
  },
  {
   "cell_type": "markdown",
   "metadata": {},
   "source": [
    "### Remodeling the dataset"
   ]
  },
  {
   "cell_type": "markdown",
   "metadata": {},
   "source": [
    "Like we mentionned earlier, we want to use different versions of the dataset to see how different mix of feature might change performance. We decided to have three versions\n",
    "\n",
    "**Version 1: Full dataset**  \n",
    "This dataset will pretty much be the original dataset, but we'll remove features that we classified as **Useless** or **Not Predictive**. For the other features, we'll make no or very little changes.  \n",
    "\n",
    "**Version 2: Lightweight dataset**  \n",
    "In this dataset, we'll only keep the features we classified as **Main**. The idea is that the features classified as **Derived** or **Optional** offer information that we can already get with the **Main** features. We might do small changes to the features in this dataset.  \n",
    "\n",
    "**Version 3: Fully custom**  \n",
    "This is pretty much the version 2 dataset, but we'll make quite a bit of changes. We'll detail them in the section reserved for the creation of the version 3 dataset."
   ]
  },
  {
   "cell_type": "markdown",
   "metadata": {},
   "source": [
    "First, let's pop our target column as it's the same for all our datasets."
   ]
  },
  {
   "cell_type": "code",
   "execution_count": null,
   "metadata": {},
   "outputs": [],
   "source": [
    "#isolating cell because it can only be run once\n",
    "y = dataset_raw.pop('DK Points Scored').values"
   ]
  },
  {
   "cell_type": "markdown",
   "metadata": {},
   "source": [
    "Now we'll apply changes that we will be using on all our datasets"
   ]
  },
  {
   "cell_type": "code",
   "execution_count": null,
   "metadata": {},
   "outputs": [],
   "source": [
    "# replace the date by a 'month' feature\n",
    "dataset_raw['Date'] = pd.to_datetime(dataset_raw['Date'], errors='coerce')\n",
    "dataset_raw['Month'] = dataset_raw['Date'].dt.month\n",
    "dataset_raw.pop('Date')"
   ]
  },
  {
   "cell_type": "markdown",
   "metadata": {},
   "source": [
    "#### Creating the Version 1 dataset: Original dataset"
   ]
  },
  {
   "cell_type": "markdown",
   "metadata": {},
   "source": [
    "As we mentionned earlier, the version 1 dataset, but without the features we classified as **Useless** or **Not Predictive**. The only change we will make is the one-hot encoding of discrete features (and 'Month', which is technically numeric)."
   ]
  },
  {
   "cell_type": "code",
   "execution_count": null,
   "metadata": {},
   "outputs": [],
   "source": [
    "full_feature_set = ['Name', 'Position', '(NBAS Team)', 'DK Opponent', 'Home', '(Double digit stats)', \n",
    "                    'DK Points Scored', 'Player Avg Pts/min', 'Team Avg Pace', 'Opponent Avg Pace', 'Team FG', \n",
    "                    'Team FGA', 'Team FG%', 'Team 3P', 'Team 3PA', 'Team 3P%', 'Team 2P', 'Team 2PA', 'Team 2P%', \n",
    "                    'Team FT', 'Team FTA', 'Team FT%', 'Team ORB', 'Team DRB', 'Team TRB', 'Team AST', 'Team STL', \n",
    "                    'Team BLK', 'Team TOV', 'Team PF', 'Team Avg Points', 'Opp FG', 'Opp FGA', 'Opp FG%', 'Opp 3P', \n",
    "                    'Opp 3PA', 'Opp 3P%', 'Opp 2P', 'Opp 2PA', 'Opp 2P%', 'Opp FT', 'Opp FTA', 'Opp FT%', 'Opp ORB', \n",
    "                    'Opp DRB', 'Opp TRB', 'Opp AST', 'Opp STL', 'Opp BLK', 'Opp TOV', 'Opp PF', 'Opp Avg PTS', \n",
    "                    'Player Age', 'Player FG', 'Player FGA', 'Player FG%', 'Player 3P', 'Player 3PA', 'Player 3P%', \n",
    "                    'Player 2P', 'Player 2PA', 'Player 2P%', 'Player eFG%', 'Player FT', 'Player FTA', 'Player FT%', \n",
    "                    'Player ORB', 'Player DRB', 'Player TRB', 'Player AST', 'Player STL', 'Player BLK', 'Player TOV', \n",
    "                    'Player PF', 'Player PS/G', 'Month']\n",
    "\n",
    "X_full_ft = dataset_raw[full_feature_set].copy()\n",
    "X_full_ft.head(5)\n",
    "\n",
    "# one hot encoding 'Name', 'Position', '(NBAS Team)', 'DK Opponent' and 'Month'\n",
    "one_hot_name = pd.get_dummies(X_full_ft['Name'], prefix = 'player')\n",
    "one_hot_position = pd.get_dummies(X_full_ft['Position'], prefix = 'position')\n",
    "one_hot_team = pd.get_dummies(X_full_ft['(NBAS Team)'], prefix = 'team')\n",
    "one_hot_opponent = pd.get_dummies(X_full_ft['DK Opponent'], prefix = 'opponent')\n",
    "one_hot_month = pd.get_dummies(X_full_ft['Month'], prefix = 'month')\n",
    "\n",
    "\n",
    "X_full_ft = pd.concat([X_full_ft, one_hot_name, one_hot_position, one_hot_team, one_hot_opponent, one_hot_month], axis=1)\n",
    "X_full_ft.pop('Name')\n",
    "X_full_ft.pop('Position')\n",
    "X_full_ft.pop('(NBAS Team)')\n",
    "X_full_ft.pop('DK Opponent')\n",
    "X_full_ft.pop('Month')\n",
    "print(list(X_full_ft))"
   ]
  },
  {
   "cell_type": "markdown",
   "metadata": {},
   "source": [
    "#### Creating the Version 2 dataset: Lightweight dataset"
   ]
  },
  {
   "cell_type": "code",
   "execution_count": null,
   "metadata": {},
   "outputs": [],
   "source": []
  },
  {
   "cell_type": "markdown",
   "metadata": {},
   "source": [
    "#### Creating the Version 3 dataset: Fully custom"
   ]
  },
  {
   "cell_type": "code",
   "execution_count": null,
   "metadata": {},
   "outputs": [],
   "source": []
  },
  {
   "cell_type": "markdown",
   "metadata": {},
   "source": [
    "## References"
   ]
  },
  {
   "cell_type": "markdown",
   "metadata": {},
   "source": [
    "- One hot encoding using pandas: http://www.insightsbot.com/blog/zuyVu/python-one-hot-encoding-with-pandas-made-simple\n",
    "- Change the date column: https://stackoverflow.com/questions/21954197/which-is-the-fastest-way-to-extract-day-month-and-year-from-a-given-date\n",
    "- "
   ]
  },
  {
   "cell_type": "markdown",
   "metadata": {},
   "source": [
    "# Bellow this is trash that I don't want to delete yet. Gonna move it."
   ]
  },
  {
   "cell_type": "code",
   "execution_count": null,
   "metadata": {},
   "outputs": [],
   "source": [
    "feature_set = ['DK Opponent', 'Home', 'Date', 'Player Avg Pts/min', 'Team Avg Pace', 'Opponent Avg Pace', \n",
    "               'Team FG', 'Team FGA', 'Team 3P', 'Team 3PA', 'Team 2P', 'Team 2PA', 'Team FT', 'Team FTA', \n",
    "               'Team ORB', 'Team DRB', 'Team AST', 'Team STL', 'Team BLK', 'Team TOV', 'Team Avg Points', \n",
    "               'Opp FG', 'Opp FGA', 'Opp ORB', 'Opp DRB', 'Opp STL', 'Opp BLK', 'Opp TOV', 'Opp Avg PTS', \n",
    "               'Player Age', 'Player FG', 'Player FGA', 'Player 3P', 'Player 3PA', 'Player 2P', 'Player 2PA', \n",
    "               'Player FT', 'Player FTA', 'Player ORB', 'Player DRB', 'Player AST', 'Player STL', 'Player BLK', \n",
    "               'Player TOV', 'Player PF', 'Player PS/G']\n",
    "\n",
    "X = dataset_raw[feature_set].copy()\n",
    "X.head(5)"
   ]
  },
  {
   "cell_type": "markdown",
   "metadata": {},
   "source": [
    "Now we'll add a column for month and remove the date colum, because we only need the month for the changes we'll make later on."
   ]
  },
  {
   "cell_type": "code",
   "execution_count": null,
   "metadata": {},
   "outputs": [],
   "source": [
    "X['Date'] = pd.to_datetime(X['Date'], errors='coerce')\n",
    "X['Month'] = X['Date'].dt.month\n",
    "#X.pop('Date')\n",
    "print(list(X))\n",
    "X['Month'].value_counts()"
   ]
  },
  {
   "cell_type": "markdown",
   "metadata": {},
   "source": [
    "Now, we want to replace the 'DK Opponent' by the defensive rating of that opponent during that month. We believe it's more informative, and will make the model more applicable to different seasons, even if our dataset only covers 2017-18.  \n",
    "\n",
    "First step is collecting the data from NBA stats. The following code is a bit dirty because the code was done quickly to emulate the request done by the NBA.com stats page. This is a good are of improvement."
   ]
  },
  {
   "cell_type": "code",
   "execution_count": null,
   "metadata": {},
   "outputs": [],
   "source": [
    "import requests"
   ]
  },
  {
   "cell_type": "code",
   "execution_count": null,
   "metadata": {},
   "outputs": [],
   "source": [
    "URL = \"https://stats.nba.com/stats/leaguedashteamstats/\"\n",
    "\n",
    "PARAMS = {\n",
    "    'Conference':'',\n",
    "    'DateFrom':'',\n",
    "    'DateTo':'',\n",
    "    'Division':'',\n",
    "    'GameScope':'',\n",
    "    'GameSegment':'',\n",
    "    'LastNGames':0,\n",
    "    'LeagueID':'00',\n",
    "    'Location':'',\n",
    "    'MeasureType':'Defense',\n",
    "    'Month':1,\n",
    "    'OpponentTeamID':0,\n",
    "    'Outcome':'',\n",
    "    'PORound':0,\n",
    "    'PaceAdjust':'N',\n",
    "    'PerMode':'PerGame',\n",
    "    'Period':0,\n",
    "    'PlayerExperience':'',\n",
    "    'PlayerPosition':'',\n",
    "    'PlusMinus':'N',\n",
    "    'Rank':'N',\n",
    "    'Season':'2017-18',\n",
    "    'SeasonSegment':'',\n",
    "    'SeasonType':'Regular Season',\n",
    "    'ShotClockRange':'',\n",
    "    'StarterBench':'',\n",
    "    'TeamID':0,\n",
    "    'TwoWay':0,\n",
    "    'VsConference':'',\n",
    "    'VsDivision':''\n",
    "}\n",
    "\n",
    "#need to trick API into thinking we're a browser\n",
    "HEADERS = {\n",
    "    'User-Agent': 'Mozilla/5.0 (Windows NT 10.0; Win64; x64) AppleWebKit/537.36 (KHTML, like Gecko) Chrome/78.0.3904.70 Safari/537.36'\n",
    "}\n",
    "\n",
    "ratings = {\n",
    "    '10': {},\n",
    "    '11': {},\n",
    "    '12': {},\n",
    "    '1': {},\n",
    "    '2': {},\n",
    "    '3': {},\n",
    "    '4': {}\n",
    "}\n",
    "\n",
    "month_count = 1 #pretty ugly, do it better\n",
    "for month_rating in ratings:\n",
    "    PARAMS['Month'] = month_count\n",
    "    r = requests.get(url = URL, params = PARAMS, headers = HEADERS) \n",
    "    data = r.json()\n",
    "    for team_info in data['resultSets'][0]['rowSet']:\n",
    "        ratings[month_rating][team_info[1]] = team_info[7]\n",
    "    month_count+=1"
   ]
  },
  {
   "cell_type": "code",
   "execution_count": null,
   "metadata": {},
   "outputs": [],
   "source": [
    "# now adding feature for defensive rating\n",
    "#first need to define a match between team names from NBA stats API and our dataset\n",
    "team_name_acronyme_match = {\n",
    "    'Hou':'Houston Rockets',\n",
    "    'Sac':'Sacramento Kings',\n",
    "    'Atl':'Atlanta Hawks',\n",
    "    'SA':'San Antonio Spurs',\n",
    "    'Pho':'Phoenix Suns',\n",
    "    'Uta':'Utah Jazz',\n",
    "    'Dal':'Dallas Mavericks',\n",
    "    'Cha':'Charlotte Hornets',\n",
    "    'Bos':'Boston Celtics',\n",
    "    'OKC':'Oklahoma City Thunder',\n",
    "    'LAL':'Los Angeles Lakers',\n",
    "    'Orl':'Orlando Magic',\n",
    "    'NY':'New York Knicks',\n",
    "    'GS':'Golden State Warriors',\n",
    "    'Tor':'Toronto Raptors',\n",
    "    'Was':'Washington Wizards',\n",
    "    'LAC':'LA Clippers',\n",
    "    'NO':'New Orleans Pelicans',\n",
    "    'Den':'Denver Nuggets',\n",
    "    'Phi':'Philadelphia 76ers',\n",
    "    'Chi':'Chicago Bulls',\n",
    "    'Min':'Minnesota Timberwolves',\n",
    "    'Bkn':'Brooklyn Nets',\n",
    "    'Ind':'Indiana Pacers',\n",
    "    'Mia':'Miami Heat',\n",
    "    'Det':'Detroit Pistons',\n",
    "    'Por':'Portland Trail Blazers',\n",
    "    'Cle':'Cleveland Cavaliers',\n",
    "    'Mil':'Milwaukee Bucks',\n",
    "    'Mem':'Memphis Grizzlies'\n",
    "}\n",
    "\n",
    "#TODO explain\n",
    "def get_defensive_rating(row, acronyme_dict, ratings_dict):\n",
    "    team = acronyme_dict[row['DK Opponent']]\n",
    "    month = row['Month']\n",
    "    return ratings_dict[str(month)][team]\n",
    "\n",
    "#TODO explain and pop useless features\n",
    "X['Opp def rating'] = X.apply(lambda row: get_defensive_rating(row, team_name_acronyme_match, ratings), axis=1)"
   ]
  }
 ],
 "metadata": {
  "kernelspec": {
   "display_name": "Python 3",
   "language": "python",
   "name": "python3"
  },
  "language_info": {
   "codemirror_mode": {
    "name": "ipython",
    "version": 3
   },
   "file_extension": ".py",
   "mimetype": "text/x-python",
   "name": "python",
   "nbconvert_exporter": "python",
   "pygments_lexer": "ipython3",
   "version": "3.7.2"
  }
 },
 "nbformat": 4,
 "nbformat_minor": 2
}
